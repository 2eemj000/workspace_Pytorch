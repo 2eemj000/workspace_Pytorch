{
 "cells": [
  {
   "cell_type": "code",
   "execution_count": 1,
   "id": "d548fffe-9c5a-4637-a838-65f176a706c7",
   "metadata": {},
   "outputs": [],
   "source": [
    "import torch\n",
    "import torch.nn as nn"
   ]
  },
  {
   "cell_type": "code",
   "execution_count": 20,
   "id": "9e84b686-4140-447a-b9fa-4b536c7d023d",
   "metadata": {},
   "outputs": [],
   "source": [
    "# https://pytorch.org/docs/stable/generated/torch.nn.LSTM.html#torch.nn.LSTM\n",
    "lstm = nn.LSTM(input_size=15, hidden_size=20, num_layers=1, batch_first=True)\n",
    "# batch_first – True이면 입력 및 출력 텐서는 (seq, batch, feature) 대신 (batch(한번에 볼 갯수), seq(입력갯수), feature) 로 제공"
   ]
  },
  {
   "cell_type": "code",
   "execution_count": 17,
   "id": "3c3b6e27-c19b-465e-8a3c-0a71853336bd",
   "metadata": {},
   "outputs": [
    {
     "data": {
      "text/plain": [
       "torch.Size([3, 35, 15])"
      ]
     },
     "execution_count": 17,
     "metadata": {},
     "output_type": "execute_result"
    }
   ],
   "source": [
    "input = torch.zeros(3,35,15) # 마지막 수를 바꾸려면 input_size와 맞춰줘야함\n",
    "# [batch_size, seq, feature]\n",
    "input.shape"
   ]
  },
  {
   "cell_type": "code",
   "execution_count": 22,
   "id": "bd479582-59d3-4fae-9577-2a44a33afc06",
   "metadata": {},
   "outputs": [
    {
     "name": "stdout",
     "output_type": "stream",
     "text": [
      "torch.Size([3, 35, 20]) torch.Size([1, 3, 20]) torch.Size([1, 3, 20])\n"
     ]
    }
   ],
   "source": [
    "# hidden_size=20\n",
    "outputs, (hidden_state, cell_state) = lstm(input)\n",
    "print(outputs.shape, hidden_state.shape, cell_state.shape)\n",
    "# torch.Size([1, 3, 20]) : 첫번째레이어, 3개입력받음"
   ]
  },
  {
   "cell_type": "code",
   "execution_count": 24,
   "id": "bce35151-7749-4b06-969d-88c3c39db35c",
   "metadata": {},
   "outputs": [
    {
     "data": {
      "text/plain": [
       "(torch.Size([1, 3, 20]), torch.Size([3, 20]))"
      ]
     },
     "execution_count": 24,
     "metadata": {},
     "output_type": "execute_result"
    }
   ],
   "source": [
    "hidden_state.shape, hidden_state.view(-1,20).shape # 모양만 보기전용으로 바꿔줌"
   ]
  },
  {
   "cell_type": "code",
   "execution_count": 23,
   "id": "6973e5f9-d7f4-4fa2-b928-892f8d9360e1",
   "metadata": {},
   "outputs": [
    {
     "data": {
      "text/plain": [
       "LSTM(10, 20, num_layers=2, batch_first=True)"
      ]
     },
     "execution_count": 23,
     "metadata": {},
     "output_type": "execute_result"
    }
   ],
   "source": [
    "lstm = nn.LSTM(input_size=10, hidden_size=20, num_layers=2, batch_first=True)\n",
    "lstm"
   ]
  }
 ],
 "metadata": {
  "kernelspec": {
   "display_name": "Python 3 (ipykernel)",
   "language": "python",
   "name": "python3"
  },
  "language_info": {
   "codemirror_mode": {
    "name": "ipython",
    "version": 3
   },
   "file_extension": ".py",
   "mimetype": "text/x-python",
   "name": "python",
   "nbconvert_exporter": "python",
   "pygments_lexer": "ipython3",
   "version": "3.12.3"
  }
 },
 "nbformat": 4,
 "nbformat_minor": 5
}
