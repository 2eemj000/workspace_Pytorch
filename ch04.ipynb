{
 "cells": [
  {
   "cell_type": "code",
   "execution_count": 1,
   "id": "92115981-ef38-4a48-a846-2675500e5ee9",
   "metadata": {},
   "outputs": [],
   "source": [
    "import torch"
   ]
  },
  {
   "cell_type": "code",
   "execution_count": 2,
   "id": "29b3ef76-03ac-4032-98a4-29089cf15807",
   "metadata": {},
   "outputs": [
    {
     "data": {
      "text/plain": [
       "tensor([[1, 2],\n",
       "        [3, 4]])"
      ]
     },
     "execution_count": 2,
     "metadata": {},
     "output_type": "execute_result"
    }
   ],
   "source": [
    "temp = torch.tensor([[1,2],\n",
    "                    [3,4]])\n",
    "temp"
   ]
  },
  {
   "cell_type": "code",
   "execution_count": 3,
   "id": "e4c21e08-94e1-4b4a-8050-ea550eda16e4",
   "metadata": {},
   "outputs": [
    {
     "name": "stdout",
     "output_type": "stream",
     "text": [
      "[[1 2]\n",
      " [3 4]]\n"
     ]
    }
   ],
   "source": [
    "print(temp.numpy())"
   ]
  },
  {
   "cell_type": "code",
   "execution_count": 4,
   "id": "54e3f976-6fd0-4c0f-8f26-34c01cc51e34",
   "metadata": {},
   "outputs": [
    {
     "data": {
      "text/plain": [
       "torch.Size([2, 2])"
      ]
     },
     "execution_count": 4,
     "metadata": {},
     "output_type": "execute_result"
    }
   ],
   "source": [
    "temp.shape"
   ]
  },
  {
   "cell_type": "code",
   "execution_count": 5,
   "id": "b6c417e1-1f81-4795-9615-535c66795652",
   "metadata": {},
   "outputs": [
    {
     "data": {
      "text/plain": [
       "tensor([[1],\n",
       "        [2],\n",
       "        [3],\n",
       "        [4]])"
      ]
     },
     "execution_count": 5,
     "metadata": {},
     "output_type": "execute_result"
    }
   ],
   "source": [
    "temp.view(4,1)"
   ]
  },
  {
   "cell_type": "code",
   "execution_count": 6,
   "id": "eccb166c-1c84-4e58-afab-58fa0c2f8463",
   "metadata": {},
   "outputs": [
    {
     "data": {
      "text/plain": [
       "tensor([1, 2, 3, 4])"
      ]
     },
     "execution_count": 6,
     "metadata": {},
     "output_type": "execute_result"
    }
   ],
   "source": [
    "temp.view(-1)"
   ]
  },
  {
   "cell_type": "code",
   "execution_count": 7,
   "id": "11f7b4d9-ecc6-4052-8bbe-52d1d0f0f12f",
   "metadata": {},
   "outputs": [
    {
     "data": {
      "text/plain": [
       "tensor([[1, 2, 3, 4]])"
      ]
     },
     "execution_count": 7,
     "metadata": {},
     "output_type": "execute_result"
    }
   ],
   "source": [
    "temp.view(1,-1)"
   ]
  },
  {
   "cell_type": "code",
   "execution_count": 8,
   "id": "02b7dc18-dd23-493b-ac6a-b1cce982afed",
   "metadata": {},
   "outputs": [
    {
     "data": {
      "text/plain": [
       "tensor([[1],\n",
       "        [2],\n",
       "        [3],\n",
       "        [4]])"
      ]
     },
     "execution_count": 8,
     "metadata": {},
     "output_type": "execute_result"
    }
   ],
   "source": [
    "temp.view(-1,1)"
   ]
  },
  {
   "cell_type": "code",
   "execution_count": 9,
   "id": "7f2edd0f-8b86-4065-bad6-9cbc13443216",
   "metadata": {},
   "outputs": [],
   "source": [
    "and_data = torch.tensor([ [0, 0],\n",
    "                          [0, 1],\n",
    "                          [1, 0],\n",
    "                          [1, 1]], dtype=torch.float32)\n",
    "and_labels = torch.tensor([ [1],\n",
    "                            [1],\n",
    "                            [1],\n",
    "                            [0]], dtype=torch.float32)"
   ]
  },
  {
   "cell_type": "code",
   "execution_count": 10,
   "id": "96cdd17f-1a23-4ed4-86ef-16e2a567a09b",
   "metadata": {},
   "outputs": [
    {
     "data": {
      "text/plain": [
       "(3, 224, 224)"
      ]
     },
     "execution_count": 10,
     "metadata": {},
     "output_type": "execute_result"
    }
   ],
   "source": [
    "import numpy as np\n",
    "\n",
    "np.random.randn(3, 224, 224).shape"
   ]
  },
  {
   "cell_type": "code",
   "execution_count": 11,
   "id": "e4e442af-4310-4108-9307-d8a27d2b5879",
   "metadata": {},
   "outputs": [
    {
     "name": "stdout",
     "output_type": "stream",
     "text": [
      "torch.Size([4, 1])\n"
     ]
    },
    {
     "data": {
      "text/plain": [
       "tensor([[0.0000],\n",
       "        [0.0000],\n",
       "        [0.2019],\n",
       "        [0.0620]], grad_fn=<ReluBackward0>)"
      ]
     },
     "execution_count": 11,
     "metadata": {},
     "output_type": "execute_result"
    }
   ],
   "source": [
    "import torch.nn as nn\n",
    "\n",
    "l1 = nn.Linear(2, 1)\n",
    "x = l1(and_data)\n",
    "print(x.shape)\n",
    "torch.relu(x)\n",
    "\n",
    "act_fn = nn.ReLU()\n",
    "act_fn(x)"
   ]
  },
  {
   "cell_type": "code",
   "execution_count": 12,
   "id": "f14cf82d-e266-4460-9392-04f455e4b66c",
   "metadata": {},
   "outputs": [
    {
     "data": {
      "text/plain": [
       "(Parameter containing:\n",
       " tensor([[ 0.5439, -0.1399]], requires_grad=True),\n",
       " Parameter containing:\n",
       " tensor([-0.3419], requires_grad=True),\n",
       " <bound method Module.parameters of Linear(in_features=2, out_features=1, bias=True)>)"
      ]
     },
     "execution_count": 12,
     "metadata": {},
     "output_type": "execute_result"
    }
   ],
   "source": [
    "l1.weight, l1.bias, l1.parameters"
   ]
  },
  {
   "cell_type": "code",
   "execution_count": 13,
   "id": "f8f8a295-5620-49af-bab0-e76d3d01741f",
   "metadata": {},
   "outputs": [],
   "source": [
    "import torch\n",
    "import torch.nn as nn\n",
    "\n",
    "class SimpleNN(nn.Module):\n",
    "    def __init__(self):\n",
    "        super(SimpleNN, self).__init__()\n",
    "        self.fc1 = nn.Linear(2, 1)\n",
    "        self.sigmoid = nn.Sigmoid()\n",
    "        #입력크기 2, 출력크기 1인 선형 레이어 정의함. \n",
    "        #self.fc2 = nn.Linear(2,1) 두번째 선형 레이어\n",
    "\n",
    "    def forward(self, x): #forward - 입력받아서 출력 변환과정을 정의함\n",
    "        x = self.fc1(x) #입력 x를 첫번째 선형레이어 fc1에 통과시킴. 선형변환 적용됨\n",
    "        x = self.sigmoid(x) #그 결과에 시그모이드 함수로 변환하여, 0과 1 사이로 이진 확률로 해석나옴\n",
    "        return x"
   ]
  },
  {
   "cell_type": "code",
   "execution_count": 14,
   "id": "2faf5ead-d6db-45cb-bcf8-5ba203603ce9",
   "metadata": {},
   "outputs": [
    {
     "data": {
      "text/plain": [
       "SimpleNN(\n",
       "  (fc1): Linear(in_features=2, out_features=1, bias=True)\n",
       "  (sigmoid): Sigmoid()\n",
       ")"
      ]
     },
     "execution_count": 14,
     "metadata": {},
     "output_type": "execute_result"
    }
   ],
   "source": [
    "model = SimpleNN()\n",
    "model"
   ]
  },
  {
   "cell_type": "code",
   "execution_count": 15,
   "id": "5d893abb-f033-4e85-aa3c-dd78482271c7",
   "metadata": {},
   "outputs": [
    {
     "data": {
      "text/plain": [
       "tensor([[0.4655],\n",
       "        [0.3977],\n",
       "        [0.5618],\n",
       "        [0.4929]], grad_fn=<SigmoidBackward0>)"
      ]
     },
     "execution_count": 15,
     "metadata": {},
     "output_type": "execute_result"
    }
   ],
   "source": [
    "model(and_data)"
   ]
  },
  {
   "cell_type": "code",
   "execution_count": 16,
   "id": "27aa2969-5b4f-4432-8410-5c907006b97e",
   "metadata": {},
   "outputs": [],
   "source": [
    "loss_fn = nn.CrossEntropyLoss()"
   ]
  },
  {
   "cell_type": "code",
   "execution_count": 17,
   "id": "a5e1e7e8-179d-4a07-9f4f-097b585d1c50",
   "metadata": {},
   "outputs": [],
   "source": [
    "import torch.optim as optim\n",
    "\n",
    "optimizer = optim.Adam(model.parameters(), lr=1e-3)"
   ]
  },
  {
   "cell_type": "code",
   "execution_count": 18,
   "id": "63f69c0f-ac44-4527-957b-0408dbcf70fa",
   "metadata": {},
   "outputs": [],
   "source": [
    "model = SimpleNN()\n"
   ]
  },
  {
   "cell_type": "code",
   "execution_count": 19,
   "id": "61091434-a028-45b0-ac23-e3d7611b3292",
   "metadata": {},
   "outputs": [
    {
     "name": "stdout",
     "output_type": "stream",
     "text": [
      "loss tensor(-0., grad_fn=<DivBackward1>)\n",
      "loss tensor(-0., grad_fn=<DivBackward1>)\n",
      "loss tensor(-0., grad_fn=<DivBackward1>)\n",
      "loss tensor(-0., grad_fn=<DivBackward1>)\n",
      "loss tensor(-0., grad_fn=<DivBackward1>)\n",
      "loss tensor(-0., grad_fn=<DivBackward1>)\n",
      "loss tensor(-0., grad_fn=<DivBackward1>)\n",
      "loss tensor(-0., grad_fn=<DivBackward1>)\n",
      "loss tensor(-0., grad_fn=<DivBackward1>)\n",
      "loss tensor(-0., grad_fn=<DivBackward1>)\n",
      "loss tensor(-0., grad_fn=<DivBackward1>)\n",
      "loss tensor(-0., grad_fn=<DivBackward1>)\n",
      "loss tensor(-0., grad_fn=<DivBackward1>)\n",
      "loss tensor(-0., grad_fn=<DivBackward1>)\n",
      "loss tensor(-0., grad_fn=<DivBackward1>)\n",
      "loss tensor(-0., grad_fn=<DivBackward1>)\n",
      "loss tensor(-0., grad_fn=<DivBackward1>)\n",
      "loss tensor(-0., grad_fn=<DivBackward1>)\n",
      "loss tensor(-0., grad_fn=<DivBackward1>)\n",
      "loss tensor(-0., grad_fn=<DivBackward1>)\n",
      "loss tensor(-0., grad_fn=<DivBackward1>)\n",
      "loss tensor(-0., grad_fn=<DivBackward1>)\n",
      "loss tensor(-0., grad_fn=<DivBackward1>)\n",
      "loss tensor(-0., grad_fn=<DivBackward1>)\n",
      "loss tensor(-0., grad_fn=<DivBackward1>)\n",
      "loss tensor(-0., grad_fn=<DivBackward1>)\n",
      "loss tensor(-0., grad_fn=<DivBackward1>)\n",
      "loss tensor(-0., grad_fn=<DivBackward1>)\n",
      "loss tensor(-0., grad_fn=<DivBackward1>)\n",
      "loss tensor(-0., grad_fn=<DivBackward1>)\n",
      "loss tensor(-0., grad_fn=<DivBackward1>)\n",
      "loss tensor(-0., grad_fn=<DivBackward1>)\n",
      "loss tensor(-0., grad_fn=<DivBackward1>)\n",
      "loss tensor(-0., grad_fn=<DivBackward1>)\n",
      "loss tensor(-0., grad_fn=<DivBackward1>)\n",
      "loss tensor(-0., grad_fn=<DivBackward1>)\n",
      "loss tensor(-0., grad_fn=<DivBackward1>)\n",
      "loss tensor(-0., grad_fn=<DivBackward1>)\n",
      "loss tensor(-0., grad_fn=<DivBackward1>)\n",
      "loss tensor(-0., grad_fn=<DivBackward1>)\n",
      "loss tensor(-0., grad_fn=<DivBackward1>)\n",
      "loss tensor(-0., grad_fn=<DivBackward1>)\n",
      "loss tensor(-0., grad_fn=<DivBackward1>)\n",
      "loss tensor(-0., grad_fn=<DivBackward1>)\n",
      "loss tensor(-0., grad_fn=<DivBackward1>)\n",
      "loss tensor(-0., grad_fn=<DivBackward1>)\n",
      "loss tensor(-0., grad_fn=<DivBackward1>)\n",
      "loss tensor(-0., grad_fn=<DivBackward1>)\n",
      "loss tensor(-0., grad_fn=<DivBackward1>)\n",
      "loss tensor(-0., grad_fn=<DivBackward1>)\n",
      "loss tensor(-0., grad_fn=<DivBackward1>)\n",
      "loss tensor(-0., grad_fn=<DivBackward1>)\n",
      "loss tensor(-0., grad_fn=<DivBackward1>)\n",
      "loss tensor(-0., grad_fn=<DivBackward1>)\n",
      "loss tensor(-0., grad_fn=<DivBackward1>)\n",
      "loss tensor(-0., grad_fn=<DivBackward1>)\n",
      "loss tensor(-0., grad_fn=<DivBackward1>)\n",
      "loss tensor(-0., grad_fn=<DivBackward1>)\n",
      "loss tensor(-0., grad_fn=<DivBackward1>)\n",
      "loss tensor(-0., grad_fn=<DivBackward1>)\n",
      "loss tensor(-0., grad_fn=<DivBackward1>)\n",
      "loss tensor(-0., grad_fn=<DivBackward1>)\n",
      "loss tensor(-0., grad_fn=<DivBackward1>)\n",
      "loss tensor(-0., grad_fn=<DivBackward1>)\n",
      "loss tensor(-0., grad_fn=<DivBackward1>)\n",
      "loss tensor(-0., grad_fn=<DivBackward1>)\n",
      "loss tensor(-0., grad_fn=<DivBackward1>)\n",
      "loss tensor(-0., grad_fn=<DivBackward1>)\n",
      "loss tensor(-0., grad_fn=<DivBackward1>)\n",
      "loss tensor(-0., grad_fn=<DivBackward1>)\n",
      "loss tensor(-0., grad_fn=<DivBackward1>)\n",
      "loss tensor(-0., grad_fn=<DivBackward1>)\n",
      "loss tensor(-0., grad_fn=<DivBackward1>)\n",
      "loss tensor(-0., grad_fn=<DivBackward1>)\n",
      "loss tensor(-0., grad_fn=<DivBackward1>)\n",
      "loss tensor(-0., grad_fn=<DivBackward1>)\n",
      "loss tensor(-0., grad_fn=<DivBackward1>)\n",
      "loss tensor(-0., grad_fn=<DivBackward1>)\n",
      "loss tensor(-0., grad_fn=<DivBackward1>)\n",
      "loss tensor(-0., grad_fn=<DivBackward1>)\n",
      "loss tensor(-0., grad_fn=<DivBackward1>)\n",
      "loss tensor(-0., grad_fn=<DivBackward1>)\n",
      "loss tensor(-0., grad_fn=<DivBackward1>)\n",
      "loss tensor(-0., grad_fn=<DivBackward1>)\n",
      "loss tensor(-0., grad_fn=<DivBackward1>)\n",
      "loss tensor(-0., grad_fn=<DivBackward1>)\n",
      "loss tensor(-0., grad_fn=<DivBackward1>)\n",
      "loss tensor(-0., grad_fn=<DivBackward1>)\n",
      "loss tensor(-0., grad_fn=<DivBackward1>)\n",
      "loss tensor(-0., grad_fn=<DivBackward1>)\n",
      "loss tensor(-0., grad_fn=<DivBackward1>)\n",
      "loss tensor(-0., grad_fn=<DivBackward1>)\n",
      "loss tensor(-0., grad_fn=<DivBackward1>)\n",
      "loss tensor(-0., grad_fn=<DivBackward1>)\n",
      "loss tensor(-0., grad_fn=<DivBackward1>)\n",
      "loss tensor(-0., grad_fn=<DivBackward1>)\n",
      "loss tensor(-0., grad_fn=<DivBackward1>)\n",
      "loss tensor(-0., grad_fn=<DivBackward1>)\n",
      "loss tensor(-0., grad_fn=<DivBackward1>)\n",
      "loss tensor(-0., grad_fn=<DivBackward1>)\n",
      "loss tensor(-0., grad_fn=<DivBackward1>)\n",
      "loss tensor(-0., grad_fn=<DivBackward1>)\n",
      "loss tensor(-0., grad_fn=<DivBackward1>)\n",
      "loss tensor(-0., grad_fn=<DivBackward1>)\n",
      "loss tensor(-0., grad_fn=<DivBackward1>)\n",
      "loss tensor(-0., grad_fn=<DivBackward1>)\n",
      "loss tensor(-0., grad_fn=<DivBackward1>)\n",
      "loss tensor(-0., grad_fn=<DivBackward1>)\n",
      "loss tensor(-0., grad_fn=<DivBackward1>)\n",
      "loss tensor(-0., grad_fn=<DivBackward1>)\n",
      "loss tensor(-0., grad_fn=<DivBackward1>)\n",
      "loss tensor(-0., grad_fn=<DivBackward1>)\n",
      "loss tensor(-0., grad_fn=<DivBackward1>)\n",
      "loss tensor(-0., grad_fn=<DivBackward1>)\n",
      "loss tensor(-0., grad_fn=<DivBackward1>)\n",
      "loss tensor(-0., grad_fn=<DivBackward1>)\n",
      "loss tensor(-0., grad_fn=<DivBackward1>)\n",
      "loss tensor(-0., grad_fn=<DivBackward1>)\n",
      "loss tensor(-0., grad_fn=<DivBackward1>)\n",
      "loss tensor(-0., grad_fn=<DivBackward1>)\n",
      "loss tensor(-0., grad_fn=<DivBackward1>)\n",
      "loss tensor(-0., grad_fn=<DivBackward1>)\n",
      "loss tensor(-0., grad_fn=<DivBackward1>)\n",
      "loss tensor(-0., grad_fn=<DivBackward1>)\n",
      "loss tensor(-0., grad_fn=<DivBackward1>)\n",
      "loss tensor(-0., grad_fn=<DivBackward1>)\n",
      "loss tensor(-0., grad_fn=<DivBackward1>)\n",
      "loss tensor(-0., grad_fn=<DivBackward1>)\n",
      "loss tensor(-0., grad_fn=<DivBackward1>)\n",
      "loss tensor(-0., grad_fn=<DivBackward1>)\n",
      "loss tensor(-0., grad_fn=<DivBackward1>)\n",
      "loss tensor(-0., grad_fn=<DivBackward1>)\n",
      "loss tensor(-0., grad_fn=<DivBackward1>)\n",
      "loss tensor(-0., grad_fn=<DivBackward1>)\n",
      "loss tensor(-0., grad_fn=<DivBackward1>)\n",
      "loss tensor(-0., grad_fn=<DivBackward1>)\n",
      "loss tensor(-0., grad_fn=<DivBackward1>)\n",
      "loss tensor(-0., grad_fn=<DivBackward1>)\n",
      "loss tensor(-0., grad_fn=<DivBackward1>)\n",
      "loss tensor(-0., grad_fn=<DivBackward1>)\n",
      "loss tensor(-0., grad_fn=<DivBackward1>)\n",
      "loss tensor(-0., grad_fn=<DivBackward1>)\n",
      "loss tensor(-0., grad_fn=<DivBackward1>)\n",
      "loss tensor(-0., grad_fn=<DivBackward1>)\n",
      "loss tensor(-0., grad_fn=<DivBackward1>)\n",
      "loss tensor(-0., grad_fn=<DivBackward1>)\n",
      "loss tensor(-0., grad_fn=<DivBackward1>)\n",
      "loss tensor(-0., grad_fn=<DivBackward1>)\n",
      "loss tensor(-0., grad_fn=<DivBackward1>)\n",
      "loss tensor(-0., grad_fn=<DivBackward1>)\n",
      "loss tensor(-0., grad_fn=<DivBackward1>)\n",
      "loss tensor(-0., grad_fn=<DivBackward1>)\n",
      "loss tensor(-0., grad_fn=<DivBackward1>)\n",
      "loss tensor(-0., grad_fn=<DivBackward1>)\n",
      "loss tensor(-0., grad_fn=<DivBackward1>)\n",
      "loss tensor(-0., grad_fn=<DivBackward1>)\n",
      "loss tensor(-0., grad_fn=<DivBackward1>)\n",
      "loss tensor(-0., grad_fn=<DivBackward1>)\n",
      "loss tensor(-0., grad_fn=<DivBackward1>)\n",
      "loss tensor(-0., grad_fn=<DivBackward1>)\n",
      "loss tensor(-0., grad_fn=<DivBackward1>)\n",
      "loss tensor(-0., grad_fn=<DivBackward1>)\n",
      "loss tensor(-0., grad_fn=<DivBackward1>)\n",
      "loss tensor(-0., grad_fn=<DivBackward1>)\n",
      "loss tensor(-0., grad_fn=<DivBackward1>)\n",
      "loss tensor(-0., grad_fn=<DivBackward1>)\n",
      "loss tensor(-0., grad_fn=<DivBackward1>)\n",
      "loss tensor(-0., grad_fn=<DivBackward1>)\n",
      "loss tensor(-0., grad_fn=<DivBackward1>)\n",
      "loss tensor(-0., grad_fn=<DivBackward1>)\n",
      "loss tensor(-0., grad_fn=<DivBackward1>)\n",
      "loss tensor(-0., grad_fn=<DivBackward1>)\n",
      "loss tensor(-0., grad_fn=<DivBackward1>)\n",
      "loss tensor(-0., grad_fn=<DivBackward1>)\n",
      "loss tensor(-0., grad_fn=<DivBackward1>)\n",
      "loss tensor(-0., grad_fn=<DivBackward1>)\n",
      "loss tensor(-0., grad_fn=<DivBackward1>)\n",
      "loss tensor(-0., grad_fn=<DivBackward1>)\n",
      "loss tensor(-0., grad_fn=<DivBackward1>)\n",
      "loss tensor(-0., grad_fn=<DivBackward1>)\n",
      "loss tensor(-0., grad_fn=<DivBackward1>)\n",
      "loss tensor(-0., grad_fn=<DivBackward1>)\n",
      "loss tensor(-0., grad_fn=<DivBackward1>)\n",
      "loss tensor(-0., grad_fn=<DivBackward1>)\n",
      "loss tensor(-0., grad_fn=<DivBackward1>)\n",
      "loss tensor(-0., grad_fn=<DivBackward1>)\n",
      "loss tensor(-0., grad_fn=<DivBackward1>)\n",
      "loss tensor(-0., grad_fn=<DivBackward1>)\n",
      "loss tensor(-0., grad_fn=<DivBackward1>)\n",
      "loss tensor(-0., grad_fn=<DivBackward1>)\n",
      "loss tensor(-0., grad_fn=<DivBackward1>)\n",
      "loss tensor(-0., grad_fn=<DivBackward1>)\n",
      "loss tensor(-0., grad_fn=<DivBackward1>)\n",
      "loss tensor(-0., grad_fn=<DivBackward1>)\n",
      "loss tensor(-0., grad_fn=<DivBackward1>)\n",
      "loss tensor(-0., grad_fn=<DivBackward1>)\n",
      "loss tensor(-0., grad_fn=<DivBackward1>)\n",
      "loss tensor(-0., grad_fn=<DivBackward1>)\n",
      "loss tensor(-0., grad_fn=<DivBackward1>)\n",
      "loss tensor(-0., grad_fn=<DivBackward1>)\n",
      "loss tensor(-0., grad_fn=<DivBackward1>)\n",
      "loss tensor(-0., grad_fn=<DivBackward1>)\n",
      "loss tensor(-0., grad_fn=<DivBackward1>)\n",
      "loss tensor(-0., grad_fn=<DivBackward1>)\n",
      "loss tensor(-0., grad_fn=<DivBackward1>)\n",
      "loss tensor(-0., grad_fn=<DivBackward1>)\n",
      "loss tensor(-0., grad_fn=<DivBackward1>)\n",
      "loss tensor(-0., grad_fn=<DivBackward1>)\n",
      "loss tensor(-0., grad_fn=<DivBackward1>)\n",
      "loss tensor(-0., grad_fn=<DivBackward1>)\n",
      "loss tensor(-0., grad_fn=<DivBackward1>)\n",
      "loss tensor(-0., grad_fn=<DivBackward1>)\n",
      "loss tensor(-0., grad_fn=<DivBackward1>)\n",
      "loss tensor(-0., grad_fn=<DivBackward1>)\n",
      "loss tensor(-0., grad_fn=<DivBackward1>)\n",
      "loss tensor(-0., grad_fn=<DivBackward1>)\n",
      "loss tensor(-0., grad_fn=<DivBackward1>)\n",
      "loss tensor(-0., grad_fn=<DivBackward1>)\n",
      "loss tensor(-0., grad_fn=<DivBackward1>)\n",
      "loss tensor(-0., grad_fn=<DivBackward1>)\n",
      "loss tensor(-0., grad_fn=<DivBackward1>)\n",
      "loss tensor(-0., grad_fn=<DivBackward1>)\n",
      "loss tensor(-0., grad_fn=<DivBackward1>)\n",
      "loss tensor(-0., grad_fn=<DivBackward1>)\n",
      "loss tensor(-0., grad_fn=<DivBackward1>)\n",
      "loss tensor(-0., grad_fn=<DivBackward1>)\n",
      "loss tensor(-0., grad_fn=<DivBackward1>)\n",
      "loss tensor(-0., grad_fn=<DivBackward1>)\n",
      "loss tensor(-0., grad_fn=<DivBackward1>)\n",
      "loss tensor(-0., grad_fn=<DivBackward1>)\n",
      "loss tensor(-0., grad_fn=<DivBackward1>)\n",
      "loss tensor(-0., grad_fn=<DivBackward1>)\n",
      "loss tensor(-0., grad_fn=<DivBackward1>)\n",
      "loss tensor(-0., grad_fn=<DivBackward1>)\n",
      "loss tensor(-0., grad_fn=<DivBackward1>)\n",
      "loss tensor(-0., grad_fn=<DivBackward1>)\n",
      "loss tensor(-0., grad_fn=<DivBackward1>)\n",
      "loss tensor(-0., grad_fn=<DivBackward1>)\n",
      "loss tensor(-0., grad_fn=<DivBackward1>)\n",
      "loss tensor(-0., grad_fn=<DivBackward1>)\n",
      "loss tensor(-0., grad_fn=<DivBackward1>)\n",
      "loss tensor(-0., grad_fn=<DivBackward1>)\n",
      "loss tensor(-0., grad_fn=<DivBackward1>)\n",
      "loss tensor(-0., grad_fn=<DivBackward1>)\n",
      "loss tensor(-0., grad_fn=<DivBackward1>)\n",
      "loss tensor(-0., grad_fn=<DivBackward1>)\n",
      "loss tensor(-0., grad_fn=<DivBackward1>)\n",
      "loss tensor(-0., grad_fn=<DivBackward1>)\n",
      "loss tensor(-0., grad_fn=<DivBackward1>)\n",
      "loss tensor(-0., grad_fn=<DivBackward1>)\n",
      "loss tensor(-0., grad_fn=<DivBackward1>)\n",
      "loss tensor(-0., grad_fn=<DivBackward1>)\n",
      "loss tensor(-0., grad_fn=<DivBackward1>)\n",
      "loss tensor(-0., grad_fn=<DivBackward1>)\n",
      "loss tensor(-0., grad_fn=<DivBackward1>)\n",
      "loss tensor(-0., grad_fn=<DivBackward1>)\n",
      "loss tensor(-0., grad_fn=<DivBackward1>)\n",
      "loss tensor(-0., grad_fn=<DivBackward1>)\n",
      "loss tensor(-0., grad_fn=<DivBackward1>)\n",
      "loss tensor(-0., grad_fn=<DivBackward1>)\n",
      "loss tensor(-0., grad_fn=<DivBackward1>)\n",
      "loss tensor(-0., grad_fn=<DivBackward1>)\n",
      "loss tensor(-0., grad_fn=<DivBackward1>)\n",
      "loss tensor(-0., grad_fn=<DivBackward1>)\n",
      "loss tensor(-0., grad_fn=<DivBackward1>)\n",
      "loss tensor(-0., grad_fn=<DivBackward1>)\n",
      "loss tensor(-0., grad_fn=<DivBackward1>)\n",
      "loss tensor(-0., grad_fn=<DivBackward1>)\n",
      "loss tensor(-0., grad_fn=<DivBackward1>)\n",
      "loss tensor(-0., grad_fn=<DivBackward1>)\n",
      "loss tensor(-0., grad_fn=<DivBackward1>)\n",
      "loss tensor(-0., grad_fn=<DivBackward1>)\n",
      "loss tensor(-0., grad_fn=<DivBackward1>)\n",
      "loss tensor(-0., grad_fn=<DivBackward1>)\n",
      "loss tensor(-0., grad_fn=<DivBackward1>)\n",
      "loss tensor(-0., grad_fn=<DivBackward1>)\n",
      "loss tensor(-0., grad_fn=<DivBackward1>)\n",
      "loss tensor(-0., grad_fn=<DivBackward1>)\n",
      "loss tensor(-0., grad_fn=<DivBackward1>)\n",
      "loss tensor(-0., grad_fn=<DivBackward1>)\n",
      "loss tensor(-0., grad_fn=<DivBackward1>)\n",
      "loss tensor(-0., grad_fn=<DivBackward1>)\n",
      "loss tensor(-0., grad_fn=<DivBackward1>)\n",
      "loss tensor(-0., grad_fn=<DivBackward1>)\n",
      "loss tensor(-0., grad_fn=<DivBackward1>)\n",
      "loss tensor(-0., grad_fn=<DivBackward1>)\n",
      "loss tensor(-0., grad_fn=<DivBackward1>)\n",
      "loss tensor(-0., grad_fn=<DivBackward1>)\n",
      "loss tensor(-0., grad_fn=<DivBackward1>)\n",
      "loss tensor(-0., grad_fn=<DivBackward1>)\n",
      "loss tensor(-0., grad_fn=<DivBackward1>)\n",
      "loss tensor(-0., grad_fn=<DivBackward1>)\n",
      "loss tensor(-0., grad_fn=<DivBackward1>)\n",
      "loss tensor(-0., grad_fn=<DivBackward1>)\n",
      "loss tensor(-0., grad_fn=<DivBackward1>)\n",
      "loss tensor(-0., grad_fn=<DivBackward1>)\n",
      "loss tensor(-0., grad_fn=<DivBackward1>)\n",
      "loss tensor(-0., grad_fn=<DivBackward1>)\n",
      "loss tensor(-0., grad_fn=<DivBackward1>)\n",
      "loss tensor(-0., grad_fn=<DivBackward1>)\n",
      "loss tensor(-0., grad_fn=<DivBackward1>)\n",
      "loss tensor(-0., grad_fn=<DivBackward1>)\n",
      "loss tensor(-0., grad_fn=<DivBackward1>)\n",
      "loss tensor(-0., grad_fn=<DivBackward1>)\n",
      "loss tensor(-0., grad_fn=<DivBackward1>)\n",
      "loss tensor(-0., grad_fn=<DivBackward1>)\n",
      "loss tensor(-0., grad_fn=<DivBackward1>)\n",
      "loss tensor(-0., grad_fn=<DivBackward1>)\n",
      "loss tensor(-0., grad_fn=<DivBackward1>)\n",
      "loss tensor(-0., grad_fn=<DivBackward1>)\n",
      "loss tensor(-0., grad_fn=<DivBackward1>)\n",
      "loss tensor(-0., grad_fn=<DivBackward1>)\n",
      "loss tensor(-0., grad_fn=<DivBackward1>)\n",
      "loss tensor(-0., grad_fn=<DivBackward1>)\n",
      "loss tensor(-0., grad_fn=<DivBackward1>)\n",
      "loss tensor(-0., grad_fn=<DivBackward1>)\n",
      "loss tensor(-0., grad_fn=<DivBackward1>)\n",
      "loss tensor(-0., grad_fn=<DivBackward1>)\n",
      "loss tensor(-0., grad_fn=<DivBackward1>)\n",
      "loss tensor(-0., grad_fn=<DivBackward1>)\n",
      "loss tensor(-0., grad_fn=<DivBackward1>)\n",
      "loss tensor(-0., grad_fn=<DivBackward1>)\n",
      "loss tensor(-0., grad_fn=<DivBackward1>)\n",
      "loss tensor(-0., grad_fn=<DivBackward1>)\n",
      "loss tensor(-0., grad_fn=<DivBackward1>)\n",
      "loss tensor(-0., grad_fn=<DivBackward1>)\n",
      "loss tensor(-0., grad_fn=<DivBackward1>)\n",
      "loss tensor(-0., grad_fn=<DivBackward1>)\n",
      "loss tensor(-0., grad_fn=<DivBackward1>)\n",
      "loss tensor(-0., grad_fn=<DivBackward1>)\n",
      "loss tensor(-0., grad_fn=<DivBackward1>)\n",
      "loss tensor(-0., grad_fn=<DivBackward1>)\n",
      "loss tensor(-0., grad_fn=<DivBackward1>)\n",
      "loss tensor(-0., grad_fn=<DivBackward1>)\n",
      "loss tensor(-0., grad_fn=<DivBackward1>)\n",
      "loss tensor(-0., grad_fn=<DivBackward1>)\n",
      "loss tensor(-0., grad_fn=<DivBackward1>)\n",
      "loss tensor(-0., grad_fn=<DivBackward1>)\n",
      "loss tensor(-0., grad_fn=<DivBackward1>)\n",
      "loss tensor(-0., grad_fn=<DivBackward1>)\n",
      "loss tensor(-0., grad_fn=<DivBackward1>)\n",
      "loss tensor(-0., grad_fn=<DivBackward1>)\n",
      "loss tensor(-0., grad_fn=<DivBackward1>)\n",
      "loss tensor(-0., grad_fn=<DivBackward1>)\n",
      "loss tensor(-0., grad_fn=<DivBackward1>)\n",
      "loss tensor(-0., grad_fn=<DivBackward1>)\n",
      "loss tensor(-0., grad_fn=<DivBackward1>)\n",
      "loss tensor(-0., grad_fn=<DivBackward1>)\n",
      "loss tensor(-0., grad_fn=<DivBackward1>)\n",
      "loss tensor(-0., grad_fn=<DivBackward1>)\n",
      "loss tensor(-0., grad_fn=<DivBackward1>)\n",
      "loss tensor(-0., grad_fn=<DivBackward1>)\n",
      "loss tensor(-0., grad_fn=<DivBackward1>)\n",
      "loss tensor(-0., grad_fn=<DivBackward1>)\n",
      "loss tensor(-0., grad_fn=<DivBackward1>)\n",
      "loss tensor(-0., grad_fn=<DivBackward1>)\n",
      "loss tensor(-0., grad_fn=<DivBackward1>)\n",
      "loss tensor(-0., grad_fn=<DivBackward1>)\n",
      "loss tensor(-0., grad_fn=<DivBackward1>)\n",
      "loss tensor(-0., grad_fn=<DivBackward1>)\n",
      "loss tensor(-0., grad_fn=<DivBackward1>)\n",
      "loss tensor(-0., grad_fn=<DivBackward1>)\n",
      "loss tensor(-0., grad_fn=<DivBackward1>)\n",
      "loss tensor(-0., grad_fn=<DivBackward1>)\n",
      "loss tensor(-0., grad_fn=<DivBackward1>)\n",
      "loss tensor(-0., grad_fn=<DivBackward1>)\n",
      "loss tensor(-0., grad_fn=<DivBackward1>)\n",
      "loss tensor(-0., grad_fn=<DivBackward1>)\n",
      "loss tensor(-0., grad_fn=<DivBackward1>)\n",
      "loss tensor(-0., grad_fn=<DivBackward1>)\n",
      "loss tensor(-0., grad_fn=<DivBackward1>)\n",
      "loss tensor(-0., grad_fn=<DivBackward1>)\n",
      "loss tensor(-0., grad_fn=<DivBackward1>)\n",
      "loss tensor(-0., grad_fn=<DivBackward1>)\n",
      "loss tensor(-0., grad_fn=<DivBackward1>)\n",
      "loss tensor(-0., grad_fn=<DivBackward1>)\n",
      "loss tensor(-0., grad_fn=<DivBackward1>)\n",
      "loss tensor(-0., grad_fn=<DivBackward1>)\n",
      "loss tensor(-0., grad_fn=<DivBackward1>)\n",
      "loss tensor(-0., grad_fn=<DivBackward1>)\n",
      "loss tensor(-0., grad_fn=<DivBackward1>)\n",
      "loss tensor(-0., grad_fn=<DivBackward1>)\n",
      "loss tensor(-0., grad_fn=<DivBackward1>)\n",
      "loss tensor(-0., grad_fn=<DivBackward1>)\n",
      "loss tensor(-0., grad_fn=<DivBackward1>)\n",
      "loss tensor(-0., grad_fn=<DivBackward1>)\n",
      "loss tensor(-0., grad_fn=<DivBackward1>)\n",
      "loss tensor(-0., grad_fn=<DivBackward1>)\n",
      "loss tensor(-0., grad_fn=<DivBackward1>)\n",
      "loss tensor(-0., grad_fn=<DivBackward1>)\n",
      "loss tensor(-0., grad_fn=<DivBackward1>)\n",
      "loss tensor(-0., grad_fn=<DivBackward1>)\n",
      "loss tensor(-0., grad_fn=<DivBackward1>)\n",
      "loss tensor(-0., grad_fn=<DivBackward1>)\n",
      "loss tensor(-0., grad_fn=<DivBackward1>)\n",
      "loss tensor(-0., grad_fn=<DivBackward1>)\n",
      "loss tensor(-0., grad_fn=<DivBackward1>)\n",
      "loss tensor(-0., grad_fn=<DivBackward1>)\n",
      "loss tensor(-0., grad_fn=<DivBackward1>)\n",
      "loss tensor(-0., grad_fn=<DivBackward1>)\n",
      "loss tensor(-0., grad_fn=<DivBackward1>)\n",
      "loss tensor(-0., grad_fn=<DivBackward1>)\n",
      "loss tensor(-0., grad_fn=<DivBackward1>)\n",
      "loss tensor(-0., grad_fn=<DivBackward1>)\n",
      "loss tensor(-0., grad_fn=<DivBackward1>)\n",
      "loss tensor(-0., grad_fn=<DivBackward1>)\n",
      "loss tensor(-0., grad_fn=<DivBackward1>)\n",
      "loss tensor(-0., grad_fn=<DivBackward1>)\n",
      "loss tensor(-0., grad_fn=<DivBackward1>)\n",
      "loss tensor(-0., grad_fn=<DivBackward1>)\n",
      "loss tensor(-0., grad_fn=<DivBackward1>)\n",
      "loss tensor(-0., grad_fn=<DivBackward1>)\n",
      "loss tensor(-0., grad_fn=<DivBackward1>)\n",
      "loss tensor(-0., grad_fn=<DivBackward1>)\n",
      "loss tensor(-0., grad_fn=<DivBackward1>)\n",
      "loss tensor(-0., grad_fn=<DivBackward1>)\n",
      "loss tensor(-0., grad_fn=<DivBackward1>)\n",
      "loss tensor(-0., grad_fn=<DivBackward1>)\n",
      "loss tensor(-0., grad_fn=<DivBackward1>)\n",
      "loss tensor(-0., grad_fn=<DivBackward1>)\n",
      "loss tensor(-0., grad_fn=<DivBackward1>)\n",
      "loss tensor(-0., grad_fn=<DivBackward1>)\n",
      "loss tensor(-0., grad_fn=<DivBackward1>)\n",
      "loss tensor(-0., grad_fn=<DivBackward1>)\n",
      "loss tensor(-0., grad_fn=<DivBackward1>)\n",
      "loss tensor(-0., grad_fn=<DivBackward1>)\n",
      "loss tensor(-0., grad_fn=<DivBackward1>)\n",
      "loss tensor(-0., grad_fn=<DivBackward1>)\n",
      "loss tensor(-0., grad_fn=<DivBackward1>)\n",
      "loss tensor(-0., grad_fn=<DivBackward1>)\n",
      "loss tensor(-0., grad_fn=<DivBackward1>)\n",
      "loss tensor(-0., grad_fn=<DivBackward1>)\n",
      "loss tensor(-0., grad_fn=<DivBackward1>)\n",
      "loss tensor(-0., grad_fn=<DivBackward1>)\n",
      "loss tensor(-0., grad_fn=<DivBackward1>)\n",
      "loss tensor(-0., grad_fn=<DivBackward1>)\n",
      "loss tensor(-0., grad_fn=<DivBackward1>)\n",
      "loss tensor(-0., grad_fn=<DivBackward1>)\n",
      "loss tensor(-0., grad_fn=<DivBackward1>)\n",
      "loss tensor(-0., grad_fn=<DivBackward1>)\n",
      "loss tensor(-0., grad_fn=<DivBackward1>)\n",
      "loss tensor(-0., grad_fn=<DivBackward1>)\n",
      "loss tensor(-0., grad_fn=<DivBackward1>)\n",
      "loss tensor(-0., grad_fn=<DivBackward1>)\n",
      "loss tensor(-0., grad_fn=<DivBackward1>)\n",
      "loss tensor(-0., grad_fn=<DivBackward1>)\n",
      "loss tensor(-0., grad_fn=<DivBackward1>)\n",
      "loss tensor(-0., grad_fn=<DivBackward1>)\n",
      "loss tensor(-0., grad_fn=<DivBackward1>)\n",
      "loss tensor(-0., grad_fn=<DivBackward1>)\n",
      "loss tensor(-0., grad_fn=<DivBackward1>)\n",
      "loss tensor(-0., grad_fn=<DivBackward1>)\n",
      "loss tensor(-0., grad_fn=<DivBackward1>)\n",
      "loss tensor(-0., grad_fn=<DivBackward1>)\n",
      "loss tensor(-0., grad_fn=<DivBackward1>)\n",
      "loss tensor(-0., grad_fn=<DivBackward1>)\n",
      "loss tensor(-0., grad_fn=<DivBackward1>)\n",
      "loss tensor(-0., grad_fn=<DivBackward1>)\n",
      "loss tensor(-0., grad_fn=<DivBackward1>)\n",
      "loss tensor(-0., grad_fn=<DivBackward1>)\n",
      "loss tensor(-0., grad_fn=<DivBackward1>)\n",
      "loss tensor(-0., grad_fn=<DivBackward1>)\n",
      "loss tensor(-0., grad_fn=<DivBackward1>)\n",
      "loss tensor(-0., grad_fn=<DivBackward1>)\n",
      "loss tensor(-0., grad_fn=<DivBackward1>)\n",
      "loss tensor(-0., grad_fn=<DivBackward1>)\n",
      "loss tensor(-0., grad_fn=<DivBackward1>)\n",
      "loss tensor(-0., grad_fn=<DivBackward1>)\n",
      "loss tensor(-0., grad_fn=<DivBackward1>)\n",
      "loss tensor(-0., grad_fn=<DivBackward1>)\n",
      "loss tensor(-0., grad_fn=<DivBackward1>)\n",
      "loss tensor(-0., grad_fn=<DivBackward1>)\n",
      "loss tensor(-0., grad_fn=<DivBackward1>)\n",
      "loss tensor(-0., grad_fn=<DivBackward1>)\n",
      "loss tensor(-0., grad_fn=<DivBackward1>)\n",
      "loss tensor(-0., grad_fn=<DivBackward1>)\n",
      "loss tensor(-0., grad_fn=<DivBackward1>)\n",
      "loss tensor(-0., grad_fn=<DivBackward1>)\n",
      "loss tensor(-0., grad_fn=<DivBackward1>)\n",
      "loss tensor(-0., grad_fn=<DivBackward1>)\n",
      "loss tensor(-0., grad_fn=<DivBackward1>)\n",
      "loss tensor(-0., grad_fn=<DivBackward1>)\n",
      "loss tensor(-0., grad_fn=<DivBackward1>)\n",
      "loss tensor(-0., grad_fn=<DivBackward1>)\n",
      "loss tensor(-0., grad_fn=<DivBackward1>)\n",
      "loss tensor(-0., grad_fn=<DivBackward1>)\n",
      "loss tensor(-0., grad_fn=<DivBackward1>)\n",
      "loss tensor(-0., grad_fn=<DivBackward1>)\n",
      "loss tensor(-0., grad_fn=<DivBackward1>)\n",
      "loss tensor(-0., grad_fn=<DivBackward1>)\n",
      "loss tensor(-0., grad_fn=<DivBackward1>)\n",
      "loss tensor(-0., grad_fn=<DivBackward1>)\n",
      "loss tensor(-0., grad_fn=<DivBackward1>)\n",
      "loss tensor(-0., grad_fn=<DivBackward1>)\n",
      "loss tensor(-0., grad_fn=<DivBackward1>)\n",
      "loss tensor(-0., grad_fn=<DivBackward1>)\n",
      "loss tensor(-0., grad_fn=<DivBackward1>)\n",
      "loss tensor(-0., grad_fn=<DivBackward1>)\n",
      "loss tensor(-0., grad_fn=<DivBackward1>)\n",
      "loss tensor(-0., grad_fn=<DivBackward1>)\n"
     ]
    }
   ],
   "source": [
    "loss_fn = nn.CrossEntropyLoss()\n",
    "optimizer = optim.Adam(model.parameters(), lr=0.001)\n",
    "\n",
    "for epoch in range(500):\n",
    "    optimizer.zero_grad()\n",
    "    outputs = model(and_data)\n",
    "    loss = loss_fn(outputs, and_labels)\n",
    "    print('loss', loss)\n",
    "    loss.backward()\n",
    "    optimizer.step()\n",
    "# 가중치를 조금씩 조절하면서 for문 돌기\n",
    "# loss가 크게 줄지 않을 때까지 반복하도록"
   ]
  },
  {
   "cell_type": "code",
   "execution_count": 20,
   "id": "a7a1e4a6-2823-4573-b20e-1f7eacfffb4a",
   "metadata": {},
   "outputs": [
    {
     "data": {
      "text/plain": [
       "tensor([[0.6001],\n",
       "        [0.5755],\n",
       "        [0.6106],\n",
       "        [0.5862]], grad_fn=<SigmoidBackward0>)"
      ]
     },
     "execution_count": 20,
     "metadata": {},
     "output_type": "execute_result"
    }
   ],
   "source": [
    "model(and_data)"
   ]
  },
  {
   "cell_type": "code",
   "execution_count": 24,
   "id": "f9f3c910-d606-46d4-b7dc-6be3bba6fcc6",
   "metadata": {},
   "outputs": [
    {
     "data": {
      "text/plain": [
       "(-0.2, 1.2)"
      ]
     },
     "execution_count": 24,
     "metadata": {},
     "output_type": "execute_result"
    },
    {
     "data": {
      "image/png": "[encoded data removed]",
      "text/plain": [
       "<Figure size 640x480 with 1 Axes>"
      ]
     },
     "metadata": {},
     "output_type": "display_data"
    }
   ],
   "source": [
    "import matplotlib.pyplot as plt\n",
    "\n",
    "x1 = [0, 0, 1]\n",
    "y1 = [0, 1, 0]\n",
    "x2 = [1]\n",
    "y2 = [1]\n",
    "\n",
    "fig, ax = plt.subplots()\n",
    "\n",
    "ax.scatter(x1, y1)\n",
    "ax.scatter(x2, y2)\n",
    "# ax.plot(x3, y3)\n",
    "ax.set_xlim(-0.2, 1.2)\n",
    "ax.set_ylim(-0.2, 1.2)"
   ]
  }
 ],
 "metadata": {
  "kernelspec": {
   "display_name": "Python 3 (ipykernel)",
   "language": "python",
   "name": "python3"
  },
  "language_info": {
   "codemirror_mode": {
    "name": "ipython",
    "version": 3
   },
   "file_extension": ".py",
   "mimetype": "text/x-python",
   "name": "python",
   "nbconvert_exporter": "python",
   "pygments_lexer": "ipython3",
   "version": "3.12.4"
  }
 },
 "nbformat": 4,
 "nbformat_minor": 5
}
