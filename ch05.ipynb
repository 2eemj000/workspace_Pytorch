{
 "cells": [
  {
   "cell_type": "code",
   "execution_count": 1,
   "id": "b5a5b4ec-f3c7-4888-a1a4-ccb7a916a487",
   "metadata": {},
   "outputs": [],
   "source": [
    "import torch\n",
    "import torch.nn as nn"
   ]
  },
  {
   "cell_type": "code",
   "execution_count": 2,
   "id": "a716140c-f1e9-4db5-bf8f-bfb120e9ec78",
   "metadata": {},
   "outputs": [],
   "source": [
    "X_train = torch.tensor([[0,0],\n",
    "                        [0,1],\n",
    "                        [1,0],\n",
    "                        [1,1.]])"
   ]
  },
  {
   "cell_type": "code",
   "execution_count": 3,
   "id": "285f17ab-d882-40dc-84a0-9f2366bc0700",
   "metadata": {},
   "outputs": [
    {
     "data": {
      "text/plain": [
       "(torch.Size([4, 2]), torch.float32)"
      ]
     },
     "execution_count": 3,
     "metadata": {},
     "output_type": "execute_result"
    }
   ],
   "source": [
    "X_train.shape, X_train.dtype"
   ]
  },
  {
   "cell_type": "code",
   "execution_count": 4,
   "id": "440d9a9d-a6eb-4568-bfb9-e4e066e82706",
   "metadata": {},
   "outputs": [
    {
     "data": {
      "text/plain": [
       "torch.Size([4, 1])"
      ]
     },
     "execution_count": 4,
     "metadata": {},
     "output_type": "execute_result"
    }
   ],
   "source": [
    "y_label = torch.tensor([[0],\n",
    "                       [0],\n",
    "                       [0],\n",
    "                       [1]])\n",
    "# y_label = torch.tensor([0,0,0,1])\n",
    "y_label.shape"
   ]
  },
  {
   "cell_type": "code",
   "execution_count": 5,
   "id": "90290aed-85c1-4122-84e8-dd51d30e35f8",
   "metadata": {},
   "outputs": [
    {
     "data": {
      "text/plain": [
       "torch.Size([4, 1])"
      ]
     },
     "execution_count": 5,
     "metadata": {},
     "output_type": "execute_result"
    }
   ],
   "source": [
    "linear = nn.Linear(2,1)\n",
    "linear(X_train).shape"
   ]
  },
  {
   "cell_type": "code",
   "execution_count": 6,
   "id": "c585bfbb-11c5-4908-b823-0b857c9729e5",
   "metadata": {},
   "outputs": [
    {
     "ename": "RuntimeError",
     "evalue": "mat1 and mat2 shapes cannot be multiplied (32x4 and 2x1)",
     "output_type": "error",
     "traceback": [
      "\u001b[1;31m---------------------------------------------------------------------------\u001b[0m",
      "\u001b[1;31mRuntimeError\u001b[0m                              Traceback (most recent call last)",
      "Cell \u001b[1;32mIn[6], line 2\u001b[0m\n\u001b[0;32m      1\u001b[0m X_train \u001b[38;5;241m=\u001b[39m torch\u001b[38;5;241m.\u001b[39mrand(\u001b[38;5;241m32\u001b[39m,\u001b[38;5;241m4\u001b[39m)\n\u001b[1;32m----> 2\u001b[0m \u001b[43mlinear\u001b[49m\u001b[43m(\u001b[49m\u001b[43mX_train\u001b[49m\u001b[43m)\u001b[49m\u001b[38;5;241m.\u001b[39mshape\n",
      "File \u001b[1;32m~\\anaconda3\\envs\\torch-book\\Lib\\site-packages\\torch\\nn\\modules\\module.py:1553\u001b[0m, in \u001b[0;36mModule._wrapped_call_impl\u001b[1;34m(self, *args, **kwargs)\u001b[0m\n\u001b[0;32m   1551\u001b[0m     \u001b[38;5;28;01mreturn\u001b[39;00m \u001b[38;5;28mself\u001b[39m\u001b[38;5;241m.\u001b[39m_compiled_call_impl(\u001b[38;5;241m*\u001b[39margs, \u001b[38;5;241m*\u001b[39m\u001b[38;5;241m*\u001b[39mkwargs)  \u001b[38;5;66;03m# type: ignore[misc]\u001b[39;00m\n\u001b[0;32m   1552\u001b[0m \u001b[38;5;28;01melse\u001b[39;00m:\n\u001b[1;32m-> 1553\u001b[0m     \u001b[38;5;28;01mreturn\u001b[39;00m \u001b[38;5;28;43mself\u001b[39;49m\u001b[38;5;241;43m.\u001b[39;49m\u001b[43m_call_impl\u001b[49m\u001b[43m(\u001b[49m\u001b[38;5;241;43m*\u001b[39;49m\u001b[43margs\u001b[49m\u001b[43m,\u001b[49m\u001b[43m \u001b[49m\u001b[38;5;241;43m*\u001b[39;49m\u001b[38;5;241;43m*\u001b[39;49m\u001b[43mkwargs\u001b[49m\u001b[43m)\u001b[49m\n",
      "File \u001b[1;32m~\\anaconda3\\envs\\torch-book\\Lib\\site-packages\\torch\\nn\\modules\\module.py:1562\u001b[0m, in \u001b[0;36mModule._call_impl\u001b[1;34m(self, *args, **kwargs)\u001b[0m\n\u001b[0;32m   1557\u001b[0m \u001b[38;5;66;03m# If we don't have any hooks, we want to skip the rest of the logic in\u001b[39;00m\n\u001b[0;32m   1558\u001b[0m \u001b[38;5;66;03m# this function, and just call forward.\u001b[39;00m\n\u001b[0;32m   1559\u001b[0m \u001b[38;5;28;01mif\u001b[39;00m \u001b[38;5;129;01mnot\u001b[39;00m (\u001b[38;5;28mself\u001b[39m\u001b[38;5;241m.\u001b[39m_backward_hooks \u001b[38;5;129;01mor\u001b[39;00m \u001b[38;5;28mself\u001b[39m\u001b[38;5;241m.\u001b[39m_backward_pre_hooks \u001b[38;5;129;01mor\u001b[39;00m \u001b[38;5;28mself\u001b[39m\u001b[38;5;241m.\u001b[39m_forward_hooks \u001b[38;5;129;01mor\u001b[39;00m \u001b[38;5;28mself\u001b[39m\u001b[38;5;241m.\u001b[39m_forward_pre_hooks\n\u001b[0;32m   1560\u001b[0m         \u001b[38;5;129;01mor\u001b[39;00m _global_backward_pre_hooks \u001b[38;5;129;01mor\u001b[39;00m _global_backward_hooks\n\u001b[0;32m   1561\u001b[0m         \u001b[38;5;129;01mor\u001b[39;00m _global_forward_hooks \u001b[38;5;129;01mor\u001b[39;00m _global_forward_pre_hooks):\n\u001b[1;32m-> 1562\u001b[0m     \u001b[38;5;28;01mreturn\u001b[39;00m \u001b[43mforward_call\u001b[49m\u001b[43m(\u001b[49m\u001b[38;5;241;43m*\u001b[39;49m\u001b[43margs\u001b[49m\u001b[43m,\u001b[49m\u001b[43m \u001b[49m\u001b[38;5;241;43m*\u001b[39;49m\u001b[38;5;241;43m*\u001b[39;49m\u001b[43mkwargs\u001b[49m\u001b[43m)\u001b[49m\n\u001b[0;32m   1564\u001b[0m \u001b[38;5;28;01mtry\u001b[39;00m:\n\u001b[0;32m   1565\u001b[0m     result \u001b[38;5;241m=\u001b[39m \u001b[38;5;28;01mNone\u001b[39;00m\n",
      "File \u001b[1;32m~\\anaconda3\\envs\\torch-book\\Lib\\site-packages\\torch\\nn\\modules\\linear.py:117\u001b[0m, in \u001b[0;36mLinear.forward\u001b[1;34m(self, input)\u001b[0m\n\u001b[0;32m    116\u001b[0m \u001b[38;5;28;01mdef\u001b[39;00m \u001b[38;5;21mforward\u001b[39m(\u001b[38;5;28mself\u001b[39m, \u001b[38;5;28minput\u001b[39m: Tensor) \u001b[38;5;241m-\u001b[39m\u001b[38;5;241m>\u001b[39m Tensor:\n\u001b[1;32m--> 117\u001b[0m     \u001b[38;5;28;01mreturn\u001b[39;00m \u001b[43mF\u001b[49m\u001b[38;5;241;43m.\u001b[39;49m\u001b[43mlinear\u001b[49m\u001b[43m(\u001b[49m\u001b[38;5;28;43minput\u001b[39;49m\u001b[43m,\u001b[49m\u001b[43m \u001b[49m\u001b[38;5;28;43mself\u001b[39;49m\u001b[38;5;241;43m.\u001b[39;49m\u001b[43mweight\u001b[49m\u001b[43m,\u001b[49m\u001b[43m \u001b[49m\u001b[38;5;28;43mself\u001b[39;49m\u001b[38;5;241;43m.\u001b[39;49m\u001b[43mbias\u001b[49m\u001b[43m)\u001b[49m\n",
      "\u001b[1;31mRuntimeError\u001b[0m: mat1 and mat2 shapes cannot be multiplied (32x4 and 2x1)"
     ]
    }
   ],
   "source": [
    "X_train = torch.rand(32,4)\n",
    "linear(X_train).shape"
   ]
  },
  {
   "cell_type": "code",
   "execution_count": null,
   "id": "ca27130e-5da8-4221-9505-68558c265130",
   "metadata": {},
   "outputs": [],
   "source": [
    "linear = nn.Linear(4,2) # 입력 column 4개, 출력 column 2개\n",
    "x = linear(X_train)\n",
    "# sigmoid = nn.Sigmoid()\n",
    "dropout = nn.Dropout(p=0.2)\n",
    "x = dropout(x)\n",
    "relu = nn.ReLU()\n",
    "x = relu(x)"
   ]
  },
  {
   "cell_type": "code",
   "execution_count": null,
   "id": "d3b5a6fa-5ed3-4274-90f1-c0b64ae4576c",
   "metadata": {},
   "outputs": [],
   "source": [
    "linear2 = nn.Linear(3,2)\n",
    "softmax = nn.Softmax()\n",
    "x = linear2(x)\n",
    "softmax(x)"
   ]
  },
  {
   "cell_type": "code",
   "execution_count": null,
   "id": "d05f954f-cdc1-4fc4-b313-13654e24299a",
   "metadata": {},
   "outputs": [],
   "source": [
    "image = torch.rand(1,28,28) # 1은 배치크기 (하나의 이미지), 28*28은 사이즈\n",
    "image.shape"
   ]
  },
  {
   "cell_type": "code",
   "execution_count": null,
   "id": "fa3daa88-607a-418f-adec-ce4318f21971",
   "metadata": {},
   "outputs": [],
   "source": [
    "conv = nn.Conv2d(1,6,3, padding=\"same\")\n",
    "# 1은 입력채널수 : 흑백1, RGB3\n",
    "# 6은 출력채널수 : 6개의 필터를 사용하여 6개의 채널로 출력을 생성\n",
    "# 3은  size : 3x3 크기의 커널을 사용\n",
    "x = conv(image)\n",
    "pool = nn.MaxPool2d(2)\n",
    "pool(x).shape"
   ]
  },
  {
   "cell_type": "code",
   "execution_count": null,
   "id": "2552f572-1865-48dc-8fd6-9943890fb623",
   "metadata": {},
   "outputs": [],
   "source": [
    "conv2 = nn.Conv2d(6,16,3, padding=\"same\")\n",
    "x = conv2(x)"
   ]
  },
  {
   "cell_type": "code",
   "execution_count": null,
   "id": "078bcdc4-2f9f-4d64-a9ca-a15c89aace64",
   "metadata": {},
   "outputs": [],
   "source": [
    "conv3 = nn.Conv2d(16,128,3, padding=\"same\")\n",
    "x = conv3(x)\n",
    "pool2 = nn.MaxPool2d(2)\n",
    "x = pool2(x)\n",
    "x.shape"
   ]
  },
  {
   "cell_type": "code",
   "execution_count": null,
   "id": "b2cfacd6-2bea-4991-93de-4eb0ff722616",
   "metadata": {},
   "outputs": [],
   "source": [
    "flatten = nn.Flatten()\n",
    "x = flatten(x)\n",
    "x.shape"
   ]
  },
  {
   "cell_type": "code",
   "execution_count": null,
   "id": "d706b75c-feb5-4e45-bee0-4a0a60cd80ec",
   "metadata": {},
   "outputs": [],
   "source": [
    "batch_size = 64\n",
    "50000/batch_size"
   ]
  },
  {
   "cell_type": "code",
   "execution_count": null,
   "id": "c4ea83af-2dee-4ee1-ae7a-14f393425af4",
   "metadata": {},
   "outputs": [],
   "source": [
    "image = torch.rand(batch_size, 1,28,28)\n",
    "image.shape"
   ]
  },
  {
   "cell_type": "code",
   "execution_count": null,
   "id": "ca9b1454-d540-495b-82eb-c2e1cca1ed58",
   "metadata": {},
   "outputs": [],
   "source": [
    "conv = nn.Conv2d(1,6,3, padding=\"same\")\n",
    "x = conv(image)\n",
    "dropout = nn.Dropout()\n",
    "x = dropout(x)\n",
    "relu = nn.ReLU()\n",
    "x = relu(x)\n",
    "pool = nn.MaxPool2d(2)\n",
    "x = pool(x)\n",
    "x.shape"
   ]
  },
  {
   "cell_type": "code",
   "execution_count": null,
   "id": "d2d6accd-04dd-423f-b771-ad0a9ed68189",
   "metadata": {},
   "outputs": [],
   "source": [
    "conv2 = nn.Conv2d(6,16,3, padding=\"same\")\n",
    "dropout2 = nn.Dropout()\n",
    "x = conv2(x)"
   ]
  },
  {
   "cell_type": "code",
   "execution_count": null,
   "id": "fe2ac81d-3993-4bcd-a49a-15b36b65f8a8",
   "metadata": {},
   "outputs": [],
   "source": [
    "conv3 = nn.Conv2d(16,128,3, padding=\"same\")\n",
    "x = conv3(x)\n",
    "pool2 = nn.MaxPool2d(2)\n",
    "x = pool2(x)\n",
    "x.shape"
   ]
  },
  {
   "cell_type": "code",
   "execution_count": null,
   "id": "21a57cc0-d78c-40ca-8ed3-36e5fa4b68d8",
   "metadata": {},
   "outputs": [],
   "source": [
    "flatten = nn.Flatten()\n",
    "x = flatten(x)\n",
    "x.shape"
   ]
  },
  {
   "cell_type": "code",
   "execution_count": null,
   "id": "40c68961-e89b-4616-a489-bcebd3dd415e",
   "metadata": {},
   "outputs": [],
   "source": [
    "linear = nn.Linear(6272, 2)\n",
    "x = linear(x)\n",
    "softmax = nn.Softmax()\n",
    "softmax(x).shape"
   ]
  }
 ],
 "metadata": {
  "kernelspec": {
   "display_name": "Python 3 (ipykernel)",
   "language": "python",
   "name": "python3"
  },
  "language_info": {
   "codemirror_mode": {
    "name": "ipython",
    "version": 3
   },
   "file_extension": ".py",
   "mimetype": "text/x-python",
   "name": "python",
   "nbconvert_exporter": "python",
   "pygments_lexer": "ipython3",
   "version": "3.12.4"
  }
 },
 "nbformat": 4,
 "nbformat_minor": 5
}
