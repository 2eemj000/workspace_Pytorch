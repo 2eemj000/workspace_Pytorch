{
 "cells": [
  {
   "cell_type": "code",
   "execution_count": 1,
   "id": "9aea30d8-3126-4d90-adbb-c1c7a82623d3",
   "metadata": {},
   "outputs": [],
   "source": [
    "import pandas as pd\n",
    "import numpy as np\n",
    "import matplotlib.pyplot as plt\n",
    "import seaborn as sns\n",
    "\n",
    "import torch\n",
    "import torch.nn as nn\n",
    "\n",
    "from sklearn.model_selection import train_test_split\n",
    "from torch.utils.data import Dataset,DataLoader"
   ]
  },
  {
   "cell_type": "code",
   "execution_count": 2,
   "id": "223b1391-5bbd-49c3-ae84-f7fd9ec24163",
   "metadata": {},
   "outputs": [],
   "source": [
    "def preprocessing():\n",
    "    dataset = pd.read_csv(\"data/car_evaluation.csv\")\n",
    "    \n",
    "    # 카테고리 정하기\n",
    "    categorical_columns = [\"price\", \"maint\", \"doors\", \"persons\", \"lug_capacity\", \"safety\"]\n",
    "    for category in categorical_columns:\n",
    "        dataset[category] = dataset[category].astype(\"category\")\n",
    "\n",
    "    # 전처리\n",
    "    price = dataset[\"price\"].cat.codes.values\n",
    "    maint = dataset[\"maint\"].cat.codes.values\n",
    "    doors = dataset[\"doors\"].cat.codes.values\n",
    "    persons = dataset[\"persons\"].cat.codes.values\n",
    "    lug_capacity = dataset[\"lug_capacity\"].cat.codes.values\n",
    "    safety = dataset[\"safety\"].cat.codes.values\n",
    "    \n",
    "    categorical_data =  np.stack([price, maint, doors, persons, lug_capacity, safety],1)\n",
    "    categorical_data = torch.tensor(categorical_data, dtype=torch.int64) # 나올때 텐서로 바꿔줘야함\n",
    "    \n",
    "    categorical_colum_sizes = [len(dataset[column].cat.categories) for column in categorical_columns]\n",
    "    categorical_embedding_sizes = [(col_size, min(50, (col_size)+1) // 2) for col_size in categorical_colum_sizes]\n",
    "    \n",
    "    \n",
    "    outputs =  dataset[\"output\"].astype(\"category\").cat.codes.values\n",
    "    outputs = torch.tensor(outputs, dtype=torch.int64).flatten() # 나올때 텐서로 바꿔줘야함\n",
    "\n",
    "    return categorical_data, outputs, categorical_embedding_sizes\n",
    "    \n",
    "categorical_data, outputs, categorical_embedding_sizes = preprocessing()"
   ]
  },
  {
   "cell_type": "code",
   "execution_count": 3,
   "id": "8cc34b0d-ff5d-47fd-a97a-76325bd6723c",
   "metadata": {},
   "outputs": [],
   "source": [
    "X_train, X_test, y_train, y_test = train_test_split(categorical_data,\n",
    "                                                   outputs,\n",
    "                                                   test_size=0.2,\n",
    "                                                   random_state=42)"
   ]
  },
  {
   "cell_type": "code",
   "execution_count": 4,
   "id": "49057bcc-3511-4b3a-aec8-07c8d23584bd",
   "metadata": {},
   "outputs": [],
   "source": [
    "class CarEvaluationDataset(Dataset):\n",
    "    def __init__(self, categorical_data, outputs):\n",
    "        self.categorical_data = categorical_data\n",
    "        self.outputs = outputs\n",
    "        \n",
    "    def __len__(self):\n",
    "        return len(self.categorical_data)\n",
    "        \n",
    "    def __getitem__(self,idx):\n",
    "        # 지도학습이니까\n",
    "        X = self.categorical_data[idx]\n",
    "        y = self.outputs[idx]\n",
    "        return X, y"
   ]
  },
  {
   "cell_type": "code",
   "execution_count": 5,
   "id": "3d993384-ad7f-4695-ae6e-469d9e69868a",
   "metadata": {},
   "outputs": [],
   "source": [
    "train_dataset = CarEvaluationDataset(X_train, y_train)\n",
    "test_dataset = CarEvaluationDataset(X_test, y_test)\n",
    "train_loader = DataLoader(train_dataset, batch_size=64, shuffle=True)\n",
    "test_loader = DataLoader(test_dataset, batch_size=64, shuffle=False)"
   ]
  },
  {
   "cell_type": "code",
   "execution_count": 6,
   "id": "a9b7e1b8-226c-4208-b8ff-29d2e0be3bd0",
   "metadata": {},
   "outputs": [],
   "source": [
    "class Model(nn.Module):\n",
    "    def __init__(self, embedding_size, output_size, layers, p=0.4):\n",
    "        super().__init__()\n",
    "        self.all_embeddings = nn.ModuleList([nn.Embedding(ni, nf) for ni, nf in embedding_size])\n",
    "        self.embedding_dropout = nn.Dropout(p)\n",
    "        all_layers = []\n",
    "        num_categorical_cols = sum((nf for ni, nf in embedding_size))\n",
    "        input_size = num_categorical_cols\n",
    "        for i in layers:\n",
    "            all_layers.append(nn.Linear(input_size, i))\n",
    "            all_layers.append(nn.ReLU(inplace=True))\n",
    "            all_layers.append(nn.BatchNorm1d(i))\n",
    "            all_layers.append(nn.Dropout(p))\n",
    "            input_size = i\n",
    "        all_layers.append(nn.Linear(layers[-1], output_size))\n",
    "        self.layers = nn.Sequential(*all_layers)\n",
    "\n",
    "    def forward(self, x_categorical):\n",
    "        embeddings = []\n",
    "        for i, e in enumerate(self.all_embeddings):\n",
    "            embeddings.append(e(x_categorical[:,i]))\n",
    "            \n",
    "        x = torch.cat(embeddings, 1)\n",
    "        x = self.embedding_dropout(x)\n",
    "        x = self.layers(x)\n",
    "        return x          "
   ]
  },
  {
   "cell_type": "code",
   "execution_count": 7,
   "id": "4c2aeb73-6820-4d74-9848-bfdd6c17708a",
   "metadata": {},
   "outputs": [
    {
     "data": {
      "text/plain": [
       "Model(\n",
       "  (all_embeddings): ModuleList(\n",
       "    (0-2): 3 x Embedding(4, 2)\n",
       "    (3-5): 3 x Embedding(3, 2)\n",
       "  )\n",
       "  (embedding_dropout): Dropout(p=0.4, inplace=False)\n",
       "  (layers): Sequential(\n",
       "    (0): Linear(in_features=12, out_features=200, bias=True)\n",
       "    (1): ReLU(inplace=True)\n",
       "    (2): BatchNorm1d(200, eps=1e-05, momentum=0.1, affine=True, track_running_stats=True)\n",
       "    (3): Dropout(p=0.4, inplace=False)\n",
       "    (4): Linear(in_features=200, out_features=100, bias=True)\n",
       "    (5): ReLU(inplace=True)\n",
       "    (6): BatchNorm1d(100, eps=1e-05, momentum=0.1, affine=True, track_running_stats=True)\n",
       "    (7): Dropout(p=0.4, inplace=False)\n",
       "    (8): Linear(in_features=100, out_features=50, bias=True)\n",
       "    (9): ReLU(inplace=True)\n",
       "    (10): BatchNorm1d(50, eps=1e-05, momentum=0.1, affine=True, track_running_stats=True)\n",
       "    (11): Dropout(p=0.4, inplace=False)\n",
       "    (12): Linear(in_features=50, out_features=4, bias=True)\n",
       "  )\n",
       ")"
      ]
     },
     "execution_count": 7,
     "metadata": {},
     "output_type": "execute_result"
    }
   ],
   "source": [
    "model = Model(categorical_embedding_sizes, 4, [200, 100, 50], p=0.4)\n",
    "model"
   ]
  },
  {
   "cell_type": "code",
   "execution_count": 8,
   "id": "c4f95a0d-9206-401c-9156-4b1019860d99",
   "metadata": {},
   "outputs": [],
   "source": [
    "loss_function = nn.CrossEntropyLoss()\n",
    "optimizer = torch.optim.Adam(model.parameters(), lr=0.001)"
   ]
  },
  {
   "cell_type": "code",
   "execution_count": 11,
   "id": "238b5211-778e-4efd-bd86-996e95c5bd9a",
   "metadata": {},
   "outputs": [
    {
     "name": "stdout",
     "output_type": "stream",
     "text": [
      "0.6623522639274597\n",
      "0.4599314332008362\n",
      "0.3231154680252075\n",
      "0.4956514835357666\n",
      "0.32889676094055176\n",
      "0.4226132035255432\n",
      "0.3553735017776489\n",
      "0.6808950901031494\n",
      "0.30588623881340027\n",
      "0.6590730547904968\n",
      "0.3387351334095001\n",
      "0.4083341956138611\n",
      "0.2697838246822357\n",
      "0.29788297414779663\n",
      "0.24000710248947144\n",
      "0.5025191307067871\n",
      "0.2215203046798706\n",
      "0.33439138531684875\n",
      "0.36879411339759827\n",
      "0.3222036361694336\n"
     ]
    }
   ],
   "source": [
    "epochs = 500\n",
    "aggregated_losses = []\n",
    "for epoch in range(epochs): # epoch수만큼 batch_size가 도는것\n",
    "    model.train()\n",
    "    for X_batch, y_batch in train_loader:\n",
    "        y_pred = model(X_batch)\n",
    "        single_loss = loss_function(y_pred,y_batch)\n",
    "        aggregated_losses.append(single_loss.item())\n",
    "\n",
    "        optimizer.zero_grad()\n",
    "        single_loss.backward()\n",
    "        optimizer.step()\n",
    "\n",
    "    if (epoch+1)%25 == 0:\n",
    "        print(single_loss.item())"
   ]
  }
 ],
 "metadata": {
  "kernelspec": {
   "display_name": "Python 3 (ipykernel)",
   "language": "python",
   "name": "python3"
  },
  "language_info": {
   "codemirror_mode": {
    "name": "ipython",
    "version": 3
   },
   "file_extension": ".py",
   "mimetype": "text/x-python",
   "name": "python",
   "nbconvert_exporter": "python",
   "pygments_lexer": "ipython3",
   "version": "3.12.4"
  }
 },
 "nbformat": 4,
 "nbformat_minor": 5
}
