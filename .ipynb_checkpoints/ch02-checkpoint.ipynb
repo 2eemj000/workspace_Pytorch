{
 "cells": [
  {
   "cell_type": "code",
   "execution_count": 17,
   "id": "46eeeab9-ec23-4145-9128-3ac4f0e7856a",
   "metadata": {},
   "outputs": [],
   "source": [
    "import torch\n",
    "import torch.nn as nn"
   ]
  },
  {
   "cell_type": "code",
   "execution_count": null,
   "id": "79565cb2-8f8e-4196-badf-f4c5a0ebfa99",
   "metadata": {},
   "outputs": [],
   "source": [
    "# !conda install anaconda::pandas -y\n",
    "# !conda install anaconda::seaborn -y"
   ]
  },
  {
   "cell_type": "code",
   "execution_count": 4,
   "id": "1c6e05c6-70a3-4266-83ea-d06ab970e48a",
   "metadata": {},
   "outputs": [],
   "source": [
    "import pandas as pd\n",
    "import numpy as np\n",
    "import matplotlib.pyplot as plt\n",
    "import seaborn as sns"
   ]
  },
  {
   "cell_type": "code",
   "execution_count": 5,
   "id": "6fcb6337-ee1d-42ad-a2b5-8e2d0afdd4a5",
   "metadata": {},
   "outputs": [
    {
     "name": "stdout",
     "output_type": "stream",
     "text": [
      "<class 'pandas.core.frame.DataFrame'>\n",
      "RangeIndex: 1728 entries, 0 to 1727\n",
      "Data columns (total 7 columns):\n",
      " #   Column        Non-Null Count  Dtype \n",
      "---  ------        --------------  ----- \n",
      " 0   price         1728 non-null   object\n",
      " 1   maint         1728 non-null   object\n",
      " 2   doors         1728 non-null   object\n",
      " 3   persons       1728 non-null   object\n",
      " 4   lug_capacity  1728 non-null   object\n",
      " 5   safety        1728 non-null   object\n",
      " 6   output        1728 non-null   object\n",
      "dtypes: object(7)\n",
      "memory usage: 94.6+ KB\n"
     ]
    }
   ],
   "source": [
    "dataset = pd.read_csv(\"data/car_evaluation.csv\")\n",
    "dataset.info()"
   ]
  },
  {
   "cell_type": "code",
   "execution_count": 9,
   "id": "9f399faa-4c5a-49d6-b695-fe29d193fe4c",
   "metadata": {},
   "outputs": [],
   "source": [
    "categorical_columns = ['price','maint','doors','persons','lug_capacity','safety']\n",
    "for category in categorical_columns:\n",
    "    dataset[category] = dataset[category].astype('category')"
   ]
  },
  {
   "cell_type": "code",
   "execution_count": 12,
   "id": "4379f4dd-85b0-4455-b88e-15bc53cc6da2",
   "metadata": {},
   "outputs": [],
   "source": [
    "# 범주형데이터 -> dataset[category] -> 넘파이배열 -> 텐서\n",
    "price = dataset['price'].cat.codes.values\n",
    "maint = dataset['maint'].cat.codes.values\n",
    "doors = dataset['doors'].cat.codes.values\n",
    "persons = dataset['persons'].cat.codes.values\n",
    "lug_capacity = dataset['lug_capacity'].cat.codes.values\n",
    "safety = dataset['safety'].cat.codes.values"
   ]
  },
  {
   "cell_type": "code",
   "execution_count": 13,
   "id": "4d08d6ea-a061-4112-ae6f-2326327b7b53",
   "metadata": {},
   "outputs": [
    {
     "data": {
      "text/plain": [
       "array([[3, 3, 0, 0, 2, 1],\n",
       "       [3, 3, 0, 0, 2, 2],\n",
       "       [3, 3, 0, 0, 2, 0],\n",
       "       [3, 3, 0, 0, 1, 1],\n",
       "       [3, 3, 0, 0, 1, 2],\n",
       "       [3, 3, 0, 0, 1, 0],\n",
       "       [3, 3, 0, 0, 0, 1],\n",
       "       [3, 3, 0, 0, 0, 2],\n",
       "       [3, 3, 0, 0, 0, 0],\n",
       "       [3, 3, 0, 1, 2, 1]], dtype=int8)"
      ]
     },
     "execution_count": 13,
     "metadata": {},
     "output_type": "execute_result"
    }
   ],
   "source": [
    "categorical_data = np.stack([price,maint,doors,persons,lug_capacity,safety],1) # 축이 1인 넘파이객체를 만듦\n",
    "categorical_data[:10]"
   ]
  },
  {
   "cell_type": "code",
   "execution_count": 15,
   "id": "c44970e1-dba0-437c-8351-dbab50553c5b",
   "metadata": {},
   "outputs": [
    {
     "data": {
      "text/plain": [
       "array([[False, False,  True, False],\n",
       "       [False, False,  True, False],\n",
       "       [False, False,  True, False],\n",
       "       ...,\n",
       "       [False, False,  True, False],\n",
       "       [False,  True, False, False],\n",
       "       [False, False, False,  True]])"
      ]
     },
     "execution_count": 15,
     "metadata": {},
     "output_type": "execute_result"
    }
   ],
   "source": [
    "outputs = pd.get_dummies(dataset[\"output\"]).values\n",
    "outputs"
   ]
  },
  {
   "cell_type": "code",
   "execution_count": 18,
   "id": "36752000-1616-4663-8307-398d4ecf5ac3",
   "metadata": {},
   "outputs": [],
   "source": [
    "categorical_data = torch.tensor(categorical_data, dtype=torch.int64)\n",
    "outputs = torch.tensor(outputs).flatten() # 원핫인코딩(자기해당되는 칸 빼고는 0으로 나오는 행렬 -> flatten으로 하나짜리로 만들어줘야함)"
   ]
  },
  {
   "cell_type": "code",
   "execution_count": 21,
   "id": "d592bcee-ad56-4fa1-9598-0f336c4a54fd",
   "metadata": {},
   "outputs": [
    {
     "name": "stdout",
     "output_type": "stream",
     "text": [
      "torch.Size([1728, 6]) torch.Size([6912])\n"
     ]
    }
   ],
   "source": [
    "print(categorical_data.size(), outputs.size())"
   ]
  },
  {
   "cell_type": "code",
   "execution_count": null,
   "id": "f585d288-7a0d-4b94-8350-a6c95ebda22a",
   "metadata": {},
   "outputs": [],
   "source": [
    "# data와 output의 size가 달라서 "
   ]
  },
  {
   "cell_type": "code",
   "execution_count": 25,
   "id": "ce1abc5a-f402-4779-913d-bfd013c2846a",
   "metadata": {},
   "outputs": [],
   "source": [
    "categorical_column_sizes =  [len(dataset[column].cat.categories) for column in categorical_columns]\n",
    "categorical_embedding_sizes = [(col_size, min(50, (col_size)+1)//2) for col_size in categorical_column_sizes]\n",
    "categorical_embedding_sizes"
   ]
  },
  {
   "cell_type": "code",
   "execution_count": 26,
   "id": "ed8bc03b-a09a-49c0-8a52-9ddc71419ea4",
   "metadata": {},
   "outputs": [],
   "source": [
    "total_records = 1728\n",
    "test_records = int(total_records*0.2)"
   ]
  },
  {
   "cell_type": "code",
   "execution_count": 30,
   "id": "3a9dfa7c-e14c-4a8f-a07a-160903a852d4",
   "metadata": {},
   "outputs": [
    {
     "name": "stdout",
     "output_type": "stream",
     "text": [
      "1383 1383 345 345\n"
     ]
    }
   ],
   "source": [
    "categorical_train_data = categorical_data[:total_records-test_records]\n",
    "categorical_test_data = categorical_data[total_records-test_records:total_records]\n",
    "train_outputs = outputs[:total_records-test_records]\n",
    "test_outputs = outputs[total_records-test_records:total_records]\n",
    "print(len(categorical_train_data), len(train_outputs), len(categorical_test_data), len(test_outputs))"
   ]
  },
  {
   "cell_type": "code",
   "execution_count": 36,
   "id": "c6c5df96-8efc-410f-b7ca-86d24a427cee",
   "metadata": {},
   "outputs": [],
   "source": [
    "class Model(nn.Module):\n",
    "\n",
    "    # 생성자\n",
    "    def __init__(self, embedding_size, output_size, layers, p=0.4):\n",
    "        super().__init__()\n",
    "        self.all_embeddings = nn.ModuleList([nn.Embedding(ni,nf) for ni,\n",
    "                                            nf in embedding_size])\n",
    "        self.embedding_dropout = nn.Dropout(p) # 일정량 수준으로 데이터를 끊어주면 결과가 잘나옴\n",
    " \n",
    "        all_layers = []\n",
    "        num_categorical_cols = sum((nf for ni, nf in embedding_size))\n",
    "        input_size = num_categorical_cols # 입력층의 크기를 찾으려고 범주형 칼럼 개수 저장 (p=0.4)\n",
    "\n",
    "        for i in layers:\n",
    "            all_layers.append(nn.Linear(input_size, i))\n",
    "            all_layers.append(nn.ReLU(inplace = True))\n",
    "            all_layers.append(nn.BatchNorm1d(i))\n",
    "            all_layers.append(nn.Dropout(p))\n",
    "            input_size = 1\n",
    "\n",
    "        all_layers.append(nn.Linear(layers[-1], output_size))\n",
    "        self.layers = nn.Sequential(*all_layers) # 순차적으로 실행되도록 모든 계층 목록을 nn.Sequential로 전달\n",
    "\n",
    "    # forward 전방연산자\n",
    "    def forward(self, x_categorical):\n",
    "        embeddings = []\n",
    "        for i,e in enumerate(self.all_embeddings):\n",
    "            embeddings.append(e(x_categorical[:,1]))\n",
    "            x = torch.cat(embeddings, 1)\n",
    "            x = self.embedding_dropout(x)\n",
    "            x = self.layers(x)\n",
    "            return x"
   ]
  },
  {
   "cell_type": "code",
   "execution_count": 37,
   "id": "7975eeb0-cf5f-48ad-96ce-dc22cec9c20c",
   "metadata": {},
   "outputs": [
    {
     "name": "stdout",
     "output_type": "stream",
     "text": [
      "Model(\n",
      "  (all_embeddings): ModuleList(\n",
      "    (0-2): 3 x Embedding(4, 2)\n",
      "    (3-5): 3 x Embedding(3, 2)\n",
      "  )\n",
      "  (embedding_dropout): Dropout(p=0.4, inplace=False)\n",
      "  (layers): Sequential(\n",
      "    (0): Linear(in_features=12, out_features=200, bias=True)\n",
      "    (1): ReLU(inplace=True)\n",
      "    (2): BatchNorm1d(200, eps=1e-05, momentum=0.1, affine=True, track_running_stats=True)\n",
      "    (3): Dropout(p=0.4, inplace=False)\n",
      "    (4): Linear(in_features=1, out_features=100, bias=True)\n",
      "    (5): ReLU(inplace=True)\n",
      "    (6): BatchNorm1d(100, eps=1e-05, momentum=0.1, affine=True, track_running_stats=True)\n",
      "    (7): Dropout(p=0.4, inplace=False)\n",
      "    (8): Linear(in_features=1, out_features=50, bias=True)\n",
      "    (9): ReLU(inplace=True)\n",
      "    (10): BatchNorm1d(50, eps=1e-05, momentum=0.1, affine=True, track_running_stats=True)\n",
      "    (11): Dropout(p=0.4, inplace=False)\n",
      "    (12): Linear(in_features=50, out_features=4, bias=True)\n",
      "  )\n",
      ")\n"
     ]
    }
   ],
   "source": [
    "model = Model(categorical_embedding_sizes, 4, [200,100,50], p=0.4) # [200,100,50] 중간과정에서 몇개를 받을지\n",
    "print(model)\n",
    "# ReLU : 가중치를 줘서 버릴거버림\n",
    "# Dropout : 기울기를 0으로 만들어서 0.4 버림\n",
    "# 200 -> 100 -> 50 -> 4"
   ]
  },
  {
   "cell_type": "code",
   "execution_count": null,
   "id": "71b5d701-3f87-4b83-b85f-b0815e385593",
   "metadata": {},
   "outputs": [],
   "source": []
  }
 ],
 "metadata": {
  "kernelspec": {
   "display_name": "Python 3 (ipykernel)",
   "language": "python",
   "name": "python3"
  },
  "language_info": {
   "codemirror_mode": {
    "name": "ipython",
    "version": 3
   },
   "file_extension": ".py",
   "mimetype": "text/x-python",
   "name": "python",
   "nbconvert_exporter": "python",
   "pygments_lexer": "ipython3",
   "version": "3.12.4"
  }
 },
 "nbformat": 4,
 "nbformat_minor": 5
}
