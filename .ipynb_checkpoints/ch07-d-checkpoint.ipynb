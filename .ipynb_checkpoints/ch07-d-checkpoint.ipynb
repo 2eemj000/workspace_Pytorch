{
 "cells": [
  {
   "cell_type": "code",
   "execution_count": 1,
   "id": "d02a3258-a490-446a-a5f2-253506566620",
   "metadata": {},
   "outputs": [
    {
     "name": "stdout",
     "output_type": "stream",
     "text": [
      "Requirement already satisfied: finance-datareader in c:\\users\\user\\anaconda3\\envs\\torch-book\\lib\\site-packages (0.9.93)\n",
      "Requirement already satisfied: pandas>=0.19.2 in c:\\users\\user\\anaconda3\\envs\\torch-book\\lib\\site-packages (from finance-datareader) (2.1.1)\n",
      "Requirement already satisfied: requests>=2.3.0 in c:\\users\\user\\anaconda3\\envs\\torch-book\\lib\\site-packages (from finance-datareader) (2.32.3)\n",
      "Requirement already satisfied: requests-file in c:\\users\\user\\anaconda3\\envs\\torch-book\\lib\\site-packages (from finance-datareader) (2.1.0)\n",
      "Requirement already satisfied: lxml in c:\\users\\user\\anaconda3\\envs\\torch-book\\lib\\site-packages (from finance-datareader) (5.2.2)\n",
      "Requirement already satisfied: tqdm in c:\\users\\user\\anaconda3\\envs\\torch-book\\lib\\site-packages (from finance-datareader) (4.66.4)\n",
      "Requirement already satisfied: numpy>=1.26.0 in c:\\users\\user\\anaconda3\\envs\\torch-book\\lib\\site-packages (from pandas>=0.19.2->finance-datareader) (1.26.4)\n",
      "Requirement already satisfied: python-dateutil>=2.8.2 in c:\\users\\user\\appdata\\roaming\\python\\python312\\site-packages (from pandas>=0.19.2->finance-datareader) (2.9.0.post0)\n",
      "Requirement already satisfied: pytz>=2020.1 in c:\\users\\user\\anaconda3\\envs\\torch-book\\lib\\site-packages (from pandas>=0.19.2->finance-datareader) (2024.1)\n",
      "Requirement already satisfied: tzdata>=2022.1 in c:\\users\\user\\anaconda3\\envs\\torch-book\\lib\\site-packages (from pandas>=0.19.2->finance-datareader) (2023.3)\n",
      "Requirement already satisfied: charset-normalizer<4,>=2 in c:\\users\\user\\anaconda3\\envs\\torch-book\\lib\\site-packages (from requests>=2.3.0->finance-datareader) (3.3.2)\n",
      "Requirement already satisfied: idna<4,>=2.5 in c:\\users\\user\\anaconda3\\envs\\torch-book\\lib\\site-packages (from requests>=2.3.0->finance-datareader) (3.7)\n",
      "Requirement already satisfied: urllib3<3,>=1.21.1 in c:\\users\\user\\anaconda3\\envs\\torch-book\\lib\\site-packages (from requests>=2.3.0->finance-datareader) (2.2.2)\n",
      "Requirement already satisfied: certifi>=2017.4.17 in c:\\users\\user\\anaconda3\\envs\\torch-book\\lib\\site-packages (from requests>=2.3.0->finance-datareader) (2024.7.4)\n",
      "Requirement already satisfied: colorama in c:\\users\\user\\appdata\\roaming\\python\\python312\\site-packages (from tqdm->finance-datareader) (0.4.6)\n",
      "Requirement already satisfied: six>=1.5 in c:\\users\\user\\appdata\\roaming\\python\\python312\\site-packages (from python-dateutil>=2.8.2->pandas>=0.19.2->finance-datareader) (1.16.0)\n"
     ]
    }
   ],
   "source": [
    "!pip install finance-datareader"
   ]
  },
  {
   "cell_type": "code",
   "execution_count": 2,
   "id": "aeda02f5-b8c5-4fe4-b415-79a8c956b29f",
   "metadata": {},
   "outputs": [
    {
     "name": "stdout",
     "output_type": "stream",
     "text": [
      "Requirement already satisfied: plotly in c:\\users\\user\\anaconda3\\envs\\torch-book\\lib\\site-packages (5.23.0)\n",
      "Requirement already satisfied: tenacity>=6.2.0 in c:\\users\\user\\anaconda3\\envs\\torch-book\\lib\\site-packages (from plotly) (9.0.0)\n",
      "Requirement already satisfied: packaging in c:\\users\\user\\appdata\\roaming\\python\\python312\\site-packages (from plotly) (24.1)\n"
     ]
    }
   ],
   "source": [
    "!pip install plotly"
   ]
  },
  {
   "cell_type": "code",
   "execution_count": 3,
   "id": "d5dc533c-923c-4c28-9b45-3beb2d13b990",
   "metadata": {},
   "outputs": [],
   "source": [
    "import pandas as pd\n",
    "import numpy as np\n",
    "import matplotlib.pyplot as plt\n",
    "import FinanceDataReader as fdr\n",
    "\n",
    "import torch\n",
    "import torch.nn as nn"
   ]
  },
  {
   "cell_type": "code",
   "execution_count": 4,
   "id": "1ca0843d-ae40-4acd-9a5d-d0733f2af155",
   "metadata": {},
   "outputs": [
    {
     "data": {
      "text/html": [
       "<div>\n",
       "<style scoped>\n",
       "    .dataframe tbody tr th:only-of-type {\n",
       "        vertical-align: middle;\n",
       "    }\n",
       "\n",
       "    .dataframe tbody tr th {\n",
       "        vertical-align: top;\n",
       "    }\n",
       "\n",
       "    .dataframe thead th {\n",
       "        text-align: right;\n",
       "    }\n",
       "</style>\n",
       "<table border=\"1\" class=\"dataframe\">\n",
       "  <thead>\n",
       "    <tr style=\"text-align: right;\">\n",
       "      <th></th>\n",
       "      <th>Open</th>\n",
       "      <th>High</th>\n",
       "      <th>Low</th>\n",
       "      <th>Close</th>\n",
       "      <th>Volume</th>\n",
       "      <th>Change</th>\n",
       "    </tr>\n",
       "    <tr>\n",
       "      <th>Date</th>\n",
       "      <th></th>\n",
       "      <th></th>\n",
       "      <th></th>\n",
       "      <th></th>\n",
       "      <th></th>\n",
       "      <th></th>\n",
       "    </tr>\n",
       "  </thead>\n",
       "  <tbody>\n",
       "    <tr>\n",
       "      <th>2000-04-21</th>\n",
       "      <td>6060</td>\n",
       "      <td>6180</td>\n",
       "      <td>5970</td>\n",
       "      <td>6050</td>\n",
       "      <td>528513</td>\n",
       "      <td>NaN</td>\n",
       "    </tr>\n",
       "    <tr>\n",
       "      <th>2000-04-24</th>\n",
       "      <td>5970</td>\n",
       "      <td>6030</td>\n",
       "      <td>5760</td>\n",
       "      <td>5800</td>\n",
       "      <td>556613</td>\n",
       "      <td>-0.041322</td>\n",
       "    </tr>\n",
       "    <tr>\n",
       "      <th>2000-04-25</th>\n",
       "      <td>5620</td>\n",
       "      <td>5760</td>\n",
       "      <td>5520</td>\n",
       "      <td>5640</td>\n",
       "      <td>698014</td>\n",
       "      <td>-0.027586</td>\n",
       "    </tr>\n",
       "    <tr>\n",
       "      <th>2000-04-26</th>\n",
       "      <td>5820</td>\n",
       "      <td>5860</td>\n",
       "      <td>5600</td>\n",
       "      <td>5600</td>\n",
       "      <td>785860</td>\n",
       "      <td>-0.007092</td>\n",
       "    </tr>\n",
       "    <tr>\n",
       "      <th>2000-04-27</th>\n",
       "      <td>5520</td>\n",
       "      <td>5700</td>\n",
       "      <td>5400</td>\n",
       "      <td>5400</td>\n",
       "      <td>1082253</td>\n",
       "      <td>-0.035714</td>\n",
       "    </tr>\n",
       "  </tbody>\n",
       "</table>\n",
       "</div>"
      ],
      "text/plain": [
       "            Open  High   Low  Close   Volume    Change\n",
       "Date                                                  \n",
       "2000-04-21  6060  6180  5970   6050   528513       NaN\n",
       "2000-04-24  5970  6030  5760   5800   556613 -0.041322\n",
       "2000-04-25  5620  5760  5520   5640   698014 -0.027586\n",
       "2000-04-26  5820  5860  5600   5600   785860 -0.007092\n",
       "2000-04-27  5520  5700  5400   5400  1082253 -0.035714"
      ]
     },
     "execution_count": 4,
     "metadata": {},
     "output_type": "execute_result"
    }
   ],
   "source": [
    "data = fdr.DataReader(\"005930\") # 삼성전자 주식\n",
    "data.head()"
   ]
  },
  {
   "cell_type": "code",
   "execution_count": 5,
   "id": "52584017-2960-4fae-aab4-febb2da38f8a",
   "metadata": {},
   "outputs": [
    {
     "data": {
      "text/html": [
       "<div>\n",
       "<style scoped>\n",
       "    .dataframe tbody tr th:only-of-type {\n",
       "        vertical-align: middle;\n",
       "    }\n",
       "\n",
       "    .dataframe tbody tr th {\n",
       "        vertical-align: top;\n",
       "    }\n",
       "\n",
       "    .dataframe thead th {\n",
       "        text-align: right;\n",
       "    }\n",
       "</style>\n",
       "<table border=\"1\" class=\"dataframe\">\n",
       "  <thead>\n",
       "    <tr style=\"text-align: right;\">\n",
       "      <th></th>\n",
       "      <th>Close</th>\n",
       "    </tr>\n",
       "    <tr>\n",
       "      <th>Date</th>\n",
       "      <th></th>\n",
       "    </tr>\n",
       "  </thead>\n",
       "  <tbody>\n",
       "    <tr>\n",
       "      <th>2000-04-21</th>\n",
       "      <td>6050</td>\n",
       "    </tr>\n",
       "    <tr>\n",
       "      <th>2000-04-24</th>\n",
       "      <td>5800</td>\n",
       "    </tr>\n",
       "    <tr>\n",
       "      <th>2000-04-25</th>\n",
       "      <td>5640</td>\n",
       "    </tr>\n",
       "    <tr>\n",
       "      <th>2000-04-26</th>\n",
       "      <td>5600</td>\n",
       "    </tr>\n",
       "    <tr>\n",
       "      <th>2000-04-27</th>\n",
       "      <td>5400</td>\n",
       "    </tr>\n",
       "    <tr>\n",
       "      <th>...</th>\n",
       "      <td>...</td>\n",
       "    </tr>\n",
       "    <tr>\n",
       "      <th>2024-08-05</th>\n",
       "      <td>71400</td>\n",
       "    </tr>\n",
       "    <tr>\n",
       "      <th>2024-08-06</th>\n",
       "      <td>72500</td>\n",
       "    </tr>\n",
       "    <tr>\n",
       "      <th>2024-08-07</th>\n",
       "      <td>74700</td>\n",
       "    </tr>\n",
       "    <tr>\n",
       "      <th>2024-08-08</th>\n",
       "      <td>73400</td>\n",
       "    </tr>\n",
       "    <tr>\n",
       "      <th>2024-08-09</th>\n",
       "      <td>74700</td>\n",
       "    </tr>\n",
       "  </tbody>\n",
       "</table>\n",
       "<p>6000 rows × 1 columns</p>\n",
       "</div>"
      ],
      "text/plain": [
       "            Close\n",
       "Date             \n",
       "2000-04-21   6050\n",
       "2000-04-24   5800\n",
       "2000-04-25   5640\n",
       "2000-04-26   5600\n",
       "2000-04-27   5400\n",
       "...           ...\n",
       "2024-08-05  71400\n",
       "2024-08-06  72500\n",
       "2024-08-07  74700\n",
       "2024-08-08  73400\n",
       "2024-08-09  74700\n",
       "\n",
       "[6000 rows x 1 columns]"
      ]
     },
     "execution_count": 5,
     "metadata": {},
     "output_type": "execute_result"
    }
   ],
   "source": [
    "data = data[[\"Close\"]] # dataframe으로 만들려면 [] 두번감싸야함 ([] 한번만감싸면 시리즈로 나옴) # 종가만 보겠다\n",
    "data"
   ]
  },
  {
   "cell_type": "code",
   "execution_count": 6,
   "id": "1117062d-7647-4d46-bbf0-1bf9cb2f5ac7",
   "metadata": {},
   "outputs": [
    {
     "data": {
      "text/plain": [
       "[<matplotlib.lines.Line2D at 0x1e613729370>]"
      ]
     },
     "execution_count": 6,
     "metadata": {},
     "output_type": "execute_result"
    },
    {
     "data": {
      "image/png": "[encoded data removed]",
      "text/plain": [
       "<Figure size 640x480 with 1 Axes>"
      ]
     },
     "metadata": {},
     "output_type": "display_data"
    }
   ],
   "source": [
    "plt.plot(data)"
   ]
  },
  {
   "cell_type": "markdown",
   "id": "fd1d1c8c-b38f-4106-9e60-a43f4d4cc17a",
   "metadata": {},
   "source": [
    "## 딥러닝 전용으로 코드작성\n",
    "- Close(종가)의 추세를 반영해서 Close값 예측하고자 함"
   ]
  },
  {
   "cell_type": "code",
   "execution_count": 7,
   "id": "4fbac8e3-0577-489e-be31-149175b10526",
   "metadata": {},
   "outputs": [
    {
     "data": {
      "text/html": [
       "<div>\n",
       "<style scoped>\n",
       "    .dataframe tbody tr th:only-of-type {\n",
       "        vertical-align: middle;\n",
       "    }\n",
       "\n",
       "    .dataframe tbody tr th {\n",
       "        vertical-align: top;\n",
       "    }\n",
       "\n",
       "    .dataframe thead th {\n",
       "        text-align: right;\n",
       "    }\n",
       "</style>\n",
       "<table border=\"1\" class=\"dataframe\">\n",
       "  <thead>\n",
       "    <tr style=\"text-align: right;\">\n",
       "      <th></th>\n",
       "      <th>Close</th>\n",
       "      <th>Close(t-1)</th>\n",
       "      <th>Close(t-2)</th>\n",
       "      <th>Close(t-3)</th>\n",
       "      <th>Close(t-4)</th>\n",
       "      <th>Close(t-5)</th>\n",
       "      <th>Close(t-6)</th>\n",
       "      <th>Close(t-7)</th>\n",
       "    </tr>\n",
       "    <tr>\n",
       "      <th>Date</th>\n",
       "      <th></th>\n",
       "      <th></th>\n",
       "      <th></th>\n",
       "      <th></th>\n",
       "      <th></th>\n",
       "      <th></th>\n",
       "      <th></th>\n",
       "      <th></th>\n",
       "    </tr>\n",
       "  </thead>\n",
       "  <tbody>\n",
       "    <tr>\n",
       "      <th>2000-05-03</th>\n",
       "      <td>6180</td>\n",
       "      <td>6280.0</td>\n",
       "      <td>6000.0</td>\n",
       "      <td>5400.0</td>\n",
       "      <td>5600.0</td>\n",
       "      <td>5640.0</td>\n",
       "      <td>5800.0</td>\n",
       "      <td>6050.0</td>\n",
       "    </tr>\n",
       "    <tr>\n",
       "      <th>2000-05-04</th>\n",
       "      <td>6180</td>\n",
       "      <td>6180.0</td>\n",
       "      <td>6280.0</td>\n",
       "      <td>6000.0</td>\n",
       "      <td>5400.0</td>\n",
       "      <td>5600.0</td>\n",
       "      <td>5640.0</td>\n",
       "      <td>5800.0</td>\n",
       "    </tr>\n",
       "    <tr>\n",
       "      <th>2000-05-08</th>\n",
       "      <td>6560</td>\n",
       "      <td>6180.0</td>\n",
       "      <td>6180.0</td>\n",
       "      <td>6280.0</td>\n",
       "      <td>6000.0</td>\n",
       "      <td>5400.0</td>\n",
       "      <td>5600.0</td>\n",
       "      <td>5640.0</td>\n",
       "    </tr>\n",
       "    <tr>\n",
       "      <th>2000-05-09</th>\n",
       "      <td>6370</td>\n",
       "      <td>6560.0</td>\n",
       "      <td>6180.0</td>\n",
       "      <td>6180.0</td>\n",
       "      <td>6280.0</td>\n",
       "      <td>6000.0</td>\n",
       "      <td>5400.0</td>\n",
       "      <td>5600.0</td>\n",
       "    </tr>\n",
       "    <tr>\n",
       "      <th>2000-05-10</th>\n",
       "      <td>6350</td>\n",
       "      <td>6370.0</td>\n",
       "      <td>6560.0</td>\n",
       "      <td>6180.0</td>\n",
       "      <td>6180.0</td>\n",
       "      <td>6280.0</td>\n",
       "      <td>6000.0</td>\n",
       "      <td>5400.0</td>\n",
       "    </tr>\n",
       "    <tr>\n",
       "      <th>...</th>\n",
       "      <td>...</td>\n",
       "      <td>...</td>\n",
       "      <td>...</td>\n",
       "      <td>...</td>\n",
       "      <td>...</td>\n",
       "      <td>...</td>\n",
       "      <td>...</td>\n",
       "      <td>...</td>\n",
       "    </tr>\n",
       "    <tr>\n",
       "      <th>2024-08-05</th>\n",
       "      <td>71400</td>\n",
       "      <td>79600.0</td>\n",
       "      <td>83100.0</td>\n",
       "      <td>83900.0</td>\n",
       "      <td>81000.0</td>\n",
       "      <td>81200.0</td>\n",
       "      <td>80900.0</td>\n",
       "      <td>80400.0</td>\n",
       "    </tr>\n",
       "    <tr>\n",
       "      <th>2024-08-06</th>\n",
       "      <td>72500</td>\n",
       "      <td>71400.0</td>\n",
       "      <td>79600.0</td>\n",
       "      <td>83100.0</td>\n",
       "      <td>83900.0</td>\n",
       "      <td>81000.0</td>\n",
       "      <td>81200.0</td>\n",
       "      <td>80900.0</td>\n",
       "    </tr>\n",
       "    <tr>\n",
       "      <th>2024-08-07</th>\n",
       "      <td>74700</td>\n",
       "      <td>72500.0</td>\n",
       "      <td>71400.0</td>\n",
       "      <td>79600.0</td>\n",
       "      <td>83100.0</td>\n",
       "      <td>83900.0</td>\n",
       "      <td>81000.0</td>\n",
       "      <td>81200.0</td>\n",
       "    </tr>\n",
       "    <tr>\n",
       "      <th>2024-08-08</th>\n",
       "      <td>73400</td>\n",
       "      <td>74700.0</td>\n",
       "      <td>72500.0</td>\n",
       "      <td>71400.0</td>\n",
       "      <td>79600.0</td>\n",
       "      <td>83100.0</td>\n",
       "      <td>83900.0</td>\n",
       "      <td>81000.0</td>\n",
       "    </tr>\n",
       "    <tr>\n",
       "      <th>2024-08-09</th>\n",
       "      <td>74700</td>\n",
       "      <td>73400.0</td>\n",
       "      <td>74700.0</td>\n",
       "      <td>72500.0</td>\n",
       "      <td>71400.0</td>\n",
       "      <td>79600.0</td>\n",
       "      <td>83100.0</td>\n",
       "      <td>83900.0</td>\n",
       "    </tr>\n",
       "  </tbody>\n",
       "</table>\n",
       "<p>5993 rows × 8 columns</p>\n",
       "</div>"
      ],
      "text/plain": [
       "            Close  Close(t-1)  Close(t-2)  Close(t-3)  Close(t-4)  Close(t-5)  \\\n",
       "Date                                                                            \n",
       "2000-05-03   6180      6280.0      6000.0      5400.0      5600.0      5640.0   \n",
       "2000-05-04   6180      6180.0      6280.0      6000.0      5400.0      5600.0   \n",
       "2000-05-08   6560      6180.0      6180.0      6280.0      6000.0      5400.0   \n",
       "2000-05-09   6370      6560.0      6180.0      6180.0      6280.0      6000.0   \n",
       "2000-05-10   6350      6370.0      6560.0      6180.0      6180.0      6280.0   \n",
       "...           ...         ...         ...         ...         ...         ...   \n",
       "2024-08-05  71400     79600.0     83100.0     83900.0     81000.0     81200.0   \n",
       "2024-08-06  72500     71400.0     79600.0     83100.0     83900.0     81000.0   \n",
       "2024-08-07  74700     72500.0     71400.0     79600.0     83100.0     83900.0   \n",
       "2024-08-08  73400     74700.0     72500.0     71400.0     79600.0     83100.0   \n",
       "2024-08-09  74700     73400.0     74700.0     72500.0     71400.0     79600.0   \n",
       "\n",
       "            Close(t-6)  Close(t-7)  \n",
       "Date                                \n",
       "2000-05-03      5800.0      6050.0  \n",
       "2000-05-04      5640.0      5800.0  \n",
       "2000-05-08      5600.0      5640.0  \n",
       "2000-05-09      5400.0      5600.0  \n",
       "2000-05-10      6000.0      5400.0  \n",
       "...                ...         ...  \n",
       "2024-08-05     80900.0     80400.0  \n",
       "2024-08-06     81200.0     80900.0  \n",
       "2024-08-07     81000.0     81200.0  \n",
       "2024-08-08     83900.0     81000.0  \n",
       "2024-08-09     83100.0     83900.0  \n",
       "\n",
       "[5993 rows x 8 columns]"
      ]
     },
     "execution_count": 7,
     "metadata": {},
     "output_type": "execute_result"
    }
   ],
   "source": [
    "from copy import deepcopy as dc\n",
    "\n",
    "# lstm을 위해 dataframe을 준비하는 함수를 만듦 (원데이터가 추세(ex.시계열?)를 따르도록) => 조작적정의 (원데이터에 기반한)\n",
    "# shift() , pct_change(), diff(), rolling(), resample() 등등 사용\n",
    "# https://jhy156456.tistory.com/entry/python-shift-pctchange-diff-rolling-resample\n",
    "def prepare_dataframe_for_lstm(df, n_steps): \n",
    "    df = dc(df)\n",
    "    for i in range(1,n_steps+1):\n",
    "        df[f\"Close(t-{i})\"] = df[\"Close\"].shift(i) # shift : 하나씩 뒤로 옮겨서 추세를 따르도록함\n",
    "    df.dropna(inplace=True)\n",
    "    return df\n",
    "\n",
    "lookback = 7\n",
    "shifted_df = prepare_dataframe_for_lstm(data, lookback)\n",
    "shifted_df"
   ]
  },
  {
   "cell_type": "code",
   "execution_count": 8,
   "id": "55cde34c-59f1-4be7-83db-32b7d47207c1",
   "metadata": {},
   "outputs": [
    {
     "data": {
      "text/plain": [
       "(5993, 8)"
      ]
     },
     "execution_count": 8,
     "metadata": {},
     "output_type": "execute_result"
    }
   ],
   "source": [
    "# 넘파이 데이터로 바꿔줘야함, 몇개인지 확인\n",
    "shifted_df_as_np = shifted_df.to_numpy()\n",
    "shifted_df_as_np.shape"
   ]
  },
  {
   "cell_type": "code",
   "execution_count": 9,
   "id": "571472ce-3992-4d93-9997-b99e4c12a328",
   "metadata": {},
   "outputs": [],
   "source": [
    "from sklearn.preprocessing import MinMaxScaler\n",
    "scaler = MinMaxScaler(feature_range=(-1,1))\n",
    "shifted_df_as_np = scaler.fit_transform(shifted_df_as_np)"
   ]
  },
  {
   "cell_type": "code",
   "execution_count": 10,
   "id": "e0344026-4486-402d-8f8d-b0296e9601a2",
   "metadata": {},
   "outputs": [
    {
     "name": "stdout",
     "output_type": "stream",
     "text": [
      "(5993, 7) (5993,)\n"
     ]
    }
   ],
   "source": [
    "# X,y 나누기\n",
    "X = shifted_df_as_np[:,1:]\n",
    "y = shifted_df_as_np[:,0]\n",
    "print(X.shape, y.shape)"
   ]
  },
  {
   "cell_type": "code",
   "execution_count": 11,
   "id": "81564608-975f-41f1-8c09-b6e4bd6b2e9f",
   "metadata": {},
   "outputs": [
    {
     "data": {
      "text/plain": [
       "array([-0.91956497, -0.92590914, -0.9395038 , -0.93497224, -0.93406593,\n",
       "       -0.93044069, -0.92477625])"
      ]
     },
     "execution_count": 11,
     "metadata": {},
     "output_type": "execute_result"
    }
   ],
   "source": [
    "X[0] # t1,t2,t3,... 값"
   ]
  },
  {
   "cell_type": "code",
   "execution_count": 12,
   "id": "cb7c344b-b7f0-4ec6-990a-8d5ebbee3905",
   "metadata": {},
   "outputs": [
    {
     "data": {
      "text/plain": [
       "array([[-0.92477625, -0.93044069, -0.93406593, ..., -0.9395038 ,\n",
       "        -0.92590914, -0.91956497],\n",
       "       [-0.93044069, -0.93406593, -0.93497224, ..., -0.92590914,\n",
       "        -0.91956497, -0.92183075],\n",
       "       [-0.93406593, -0.93497224, -0.9395038 , ..., -0.91956497,\n",
       "        -0.92183075, -0.92183075],\n",
       "       ...,\n",
       "       [ 0.777954  ,  0.77342245,  0.83912994, ...,  0.7417016 ,\n",
       "         0.55590801,  0.58083154],\n",
       "       [ 0.77342245,  0.83912994,  0.82100374, ...,  0.55590801,\n",
       "         0.58083154,  0.6306786 ],\n",
       "       [ 0.83912994,  0.82100374,  0.7417016 , ...,  0.58083154,\n",
       "         0.6306786 ,  0.60122352]])"
      ]
     },
     "execution_count": 12,
     "metadata": {},
     "output_type": "execute_result"
    }
   ],
   "source": [
    "np.flip(X, axis=1) # flip : 뒤집는거 (추세를 따르지 못함->뒤집어줘야함)"
   ]
  },
  {
   "cell_type": "code",
   "execution_count": 13,
   "id": "7717579f-7445-445d-8736-335aa4b6390c",
   "metadata": {},
   "outputs": [],
   "source": [
    "X = dc(np.flip(X, axis=1))"
   ]
  },
  {
   "cell_type": "code",
   "execution_count": 14,
   "id": "45d71274-db1f-4cb7-b422-ef622b9b3112",
   "metadata": {},
   "outputs": [
    {
     "data": {
      "text/plain": [
       "5693"
      ]
     },
     "execution_count": 14,
     "metadata": {},
     "output_type": "execute_result"
    }
   ],
   "source": [
    "split_index = int(len(X)*0.95)\n",
    "split_index"
   ]
  },
  {
   "cell_type": "markdown",
   "id": "5a80d025-1770-42ec-b14d-eca791160e5a",
   "metadata": {},
   "source": [
    "## Train and Test\n",
    "- batch_fist = True"
   ]
  },
  {
   "cell_type": "code",
   "execution_count": 15,
   "id": "6ebde630-2038-4535-83db-6e5e9263376d",
   "metadata": {},
   "outputs": [],
   "source": [
    "# X_train = X[:split_index]\n",
    "# X_test = X[split_index:]\n",
    "# y_train = y[:split_index]\n",
    "# y_test = y[split_index]"
   ]
  },
  {
   "cell_type": "code",
   "execution_count": 16,
   "id": "3066d917-3376-4fbd-8a0f-c9fe40cbe907",
   "metadata": {},
   "outputs": [],
   "source": [
    "# print(X_train.shape, X_test.shape) # 이렇게하면 오류남 (튜플세개 필요) : batch_first"
   ]
  },
  {
   "cell_type": "code",
   "execution_count": 19,
   "id": "93fa7674-fec2-48b1-bf08-24f7bc3723e5",
   "metadata": {},
   "outputs": [],
   "source": [
    "X_train = X[:split_index]\n",
    "X_test = X[split_index:]\n",
    "y_train = y[:split_index]\n",
    "y_test = y[split_index:]\n",
    "\n",
    "X_train = X_train.reshape((-1, lookback, 1)) # lookback 7칸씩 보는것\n",
    "X_test = X_test.reshape((-1, lookback, 1))\n",
    "\n",
    "y_train = y_train.reshape((-1, 1)) # lookback 7칸씩 보는것 빼줘야함\n",
    "y_test = y_test.reshape((-1, 1))"
   ]
  },
  {
   "cell_type": "code",
   "execution_count": 20,
   "id": "e30e8610-aa83-4ac9-a0e7-da87df1ce234",
   "metadata": {},
   "outputs": [
    {
     "name": "stdout",
     "output_type": "stream",
     "text": [
      "(5693, 7, 1) (300, 7, 1) (5693, 1) (300, 1)\n"
     ]
    }
   ],
   "source": [
    "print(X_train.shape, X_test.shape, y_train.shape, y_test.shape) # lstm 쓰려면 batch_first = True해서 이런 형태로 만들어줘야함"
   ]
  },
  {
   "cell_type": "code",
   "execution_count": 21,
   "id": "2b9c1ef0-ebbc-4647-8607-776acf73f57b",
   "metadata": {},
   "outputs": [],
   "source": [
    "X_train = torch.tensor(X_train).float()\n",
    "X_test = torch.tensor(X_test).float()\n",
    "y_train = torch.tensor(y_train).float()\n",
    "y_test = torch.tensor(y_test).float()"
   ]
  },
  {
   "cell_type": "code",
   "execution_count": 22,
   "id": "ff48410a-7cde-4f0c-883d-b14492b714ed",
   "metadata": {},
   "outputs": [
    {
     "name": "stdout",
     "output_type": "stream",
     "text": [
      "torch.Size([5693, 7, 1]) torch.Size([300, 7, 1]) torch.Size([5693, 1]) torch.Size([300, 1])\n"
     ]
    }
   ],
   "source": [
    "print(X_train.shape, X_test.shape, y_train.shape, y_test.shape)"
   ]
  },
  {
   "cell_type": "code",
   "execution_count": 23,
   "id": "381963ba-dd9d-4dd8-8947-7edbd44f47b9",
   "metadata": {},
   "outputs": [],
   "source": [
    "from torch.utils.data import Dataset\n",
    "\n",
    "class TimeSeriesDataset(Dataset):\n",
    "    def __init__(self, X, y):\n",
    "        self.X = X\n",
    "        self.y = y\n",
    "\n",
    "    def __len__(self):\n",
    "        return len(self.X)\n",
    "\n",
    "    def __getitem__(self, idx):\n",
    "        return self.X[idx], self.y[idx]\n",
    "\n",
    "train_dataset = TimeSeriesDataset(X_train, y_train)\n",
    "test_dataset = TimeSeriesDataset(X_test, y_test)"
   ]
  },
  {
   "cell_type": "code",
   "execution_count": null,
   "id": "8720078c-6068-4b40-b9e9-3b13e387c543",
   "metadata": {},
   "outputs": [],
   "source": [
    "from torch.utils.data import DataLoader\n",
    "batch_size = 16\n",
    "train_loader = DataLoader(train_dataset, batch_size=batch_size, shuffle=True)"
   ]
  }
 ],
 "metadata": {
  "kernelspec": {
   "display_name": "Python 3 (ipykernel)",
   "language": "python",
   "name": "python3"
  },
  "language_info": {
   "codemirror_mode": {
    "name": "ipython",
    "version": 3
   },
   "file_extension": ".py",
   "mimetype": "text/x-python",
   "name": "python",
   "nbconvert_exporter": "python",
   "pygments_lexer": "ipython3",
   "version": "3.12.3"
  }
 },
 "nbformat": 4,
 "nbformat_minor": 5
}
